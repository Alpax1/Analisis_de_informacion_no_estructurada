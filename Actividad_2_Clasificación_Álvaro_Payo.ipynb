{
  "cells": [
    {
      "cell_type": "markdown",
      "metadata": {
        "id": "pkTvsUxbWzT6"
      },
      "source": [
        "## **Actividad 2: Práctica de clasificación de textos**\n",
        "## **Álvaro Payo**"
      ]
    },
    {
      "cell_type": "markdown",
      "metadata": {
        "id": "vbW1u3CbhOvY"
      },
      "source": [
        "## **1. Clasificación sin quitar stopwords y con max features = 20**"
      ]
    },
    {
      "cell_type": "markdown",
      "metadata": {
        "id": "TNZ-BPd9XKQh"
      },
      "source": [
        "### **1.1. Importar librerías y datos**"
      ]
    },
    {
      "cell_type": "code",
      "execution_count": null,
      "metadata": {
        "id": "-Eqy91IGWw70"
      },
      "outputs": [],
      "source": [
        "#Importación de librerías\n",
        "import spacy\n",
        "import nltk\n",
        "import pandas as pd \n",
        "import numpy as np \n",
        "\n",
        "import string\n",
        "punctuation = set(string.punctuation)\n",
        "\n",
        "from sklearn.model_selection import train_test_split\n",
        "from sklearn.feature_extraction.text import TfidfVectorizer\n",
        "\n",
        "from sklearn.feature_extraction.text import CountVectorizer\n",
        "vectorizer = CountVectorizer()\n",
        "\n",
        "from sklearn.naive_bayes import MultinomialNB\n",
        "from sklearn.svm import LinearSVC\n",
        "\n",
        "from sklearn.metrics import confusion_matrix\n",
        "from sklearn.metrics import accuracy_score\n",
        "\n",
        "nlp_español = spacy.load('es_core_news_lg')  "
      ]
    },
    {
      "cell_type": "code",
      "execution_count": null,
      "metadata": {
        "colab": {
          "base_uri": "https://localhost:8080/",
          "height": 206
        },
        "id": "OgFl7dkMWw79",
        "outputId": "41ddd4db-05ec-40d8-f5ff-8301d14ea0e7"
      },
      "outputs": [
        {
          "name": "stderr",
          "output_type": "stream",
          "text": [
            "/var/folders/sj/gx488vhj71l9qdwdykmfbg4w0000gq/T/ipykernel_90150/422621573.py:2: ParserWarning: Falling back to the 'python' engine because the 'c' engine does not support regex separators (separators > 1 char and different from '\\s+' are interpreted as regex); you can avoid this warning by specifying engine='python'.\n",
            "  tweets = pd.read_csv(\"tweets.txt\", header = None, encoding = 'UTF-8', sep = '::::')\n"
          ]
        },
        {
          "data": {
            "text/html": [
              "<div>\n",
              "<style scoped>\n",
              "    .dataframe tbody tr th:only-of-type {\n",
              "        vertical-align: middle;\n",
              "    }\n",
              "\n",
              "    .dataframe tbody tr th {\n",
              "        vertical-align: top;\n",
              "    }\n",
              "\n",
              "    .dataframe thead th {\n",
              "        text-align: right;\n",
              "    }\n",
              "</style>\n",
              "<table border=\"1\" class=\"dataframe\">\n",
              "  <thead>\n",
              "    <tr style=\"text-align: right;\">\n",
              "      <th></th>\n",
              "      <th>Texto</th>\n",
              "      <th>Etiqueta</th>\n",
              "    </tr>\n",
              "  </thead>\n",
              "  <tbody>\n",
              "    <tr>\n",
              "      <th>0</th>\n",
              "      <td>Salgo de #VeoTV , que día más largoooooo...</td>\n",
              "      <td>None</td>\n",
              "    </tr>\n",
              "    <tr>\n",
              "      <th>1</th>\n",
              "      <td>@PauladeLasHeras No te libraras de ayudar me/n...</td>\n",
              "      <td>neutro</td>\n",
              "    </tr>\n",
              "    <tr>\n",
              "      <th>2</th>\n",
              "      <td>@marodriguezb Gracias MAR</td>\n",
              "      <td>positivo</td>\n",
              "    </tr>\n",
              "    <tr>\n",
              "      <th>3</th>\n",
              "      <td>Off pensando en el regalito Sinde, la que se v...</td>\n",
              "      <td>negativo</td>\n",
              "    </tr>\n",
              "    <tr>\n",
              "      <th>4</th>\n",
              "      <td>Conozco a alguien q es adicto al drama! Ja ja ...</td>\n",
              "      <td>positivo</td>\n",
              "    </tr>\n",
              "  </tbody>\n",
              "</table>\n",
              "</div>"
            ],
            "text/plain": [
              "                                               Texto  Etiqueta\n",
              "0        Salgo de #VeoTV , que día más largoooooo...      None\n",
              "1  @PauladeLasHeras No te libraras de ayudar me/n...    neutro\n",
              "2                          @marodriguezb Gracias MAR  positivo\n",
              "3  Off pensando en el regalito Sinde, la que se v...  negativo\n",
              "4  Conozco a alguien q es adicto al drama! Ja ja ...  positivo"
            ]
          },
          "execution_count": 2,
          "metadata": {},
          "output_type": "execute_result"
        }
      ],
      "source": [
        "#Lectura del fichero: tweets.txt \n",
        "tweets = pd.read_csv(\"tweets.txt\", header = None, encoding = 'UTF-8', sep = '::::')\n",
        "tweets.columns = ['Texto', 'Etiqueta']\n",
        "tweets.head() "
      ]
    },
    {
      "cell_type": "markdown",
      "metadata": {
        "id": "zsxE52CxXwfW"
      },
      "source": [
        "### **1.2. Pre-procesamiento**"
      ]
    },
    {
      "cell_type": "code",
      "execution_count": null,
      "metadata": {
        "colab": {
          "base_uri": "https://localhost:8080/"
        },
        "id": "Hw4w6Fz1Ww7-",
        "outputId": "b98da7f6-b1ba-4891-db8a-c0255919bc38"
      },
      "outputs": [
        {
          "data": {
            "text/plain": [
              "positivo     2883\n",
              "negativo     2182\n",
              "None         1482\n",
              "neutro        670\n",
              ":negativo       1\n",
              ":positivo       1\n",
              "Name: Etiqueta, dtype: int64"
            ]
          },
          "execution_count": 3,
          "metadata": {},
          "output_type": "execute_result"
        }
      ],
      "source": [
        "#Hay dos etiquetas de positivo y negativo que se han quedado con : delante.\n",
        "tweets['Etiqueta'].value_counts()"
      ]
    },
    {
      "cell_type": "code",
      "execution_count": null,
      "metadata": {
        "id": "2OUXlCCXWw7_"
      },
      "outputs": [],
      "source": [
        "#Para que todas las etiquetas estén correctamente, reemplazo las que se han quedado con : delante por el nombre que deberían tener.\n",
        "tweets.Etiqueta.replace({\":positivo\":\"positivo\", \":negativo\":\"negativo\"}, inplace=True)"
      ]
    },
    {
      "cell_type": "code",
      "execution_count": null,
      "metadata": {
        "colab": {
          "base_uri": "https://localhost:8080/"
        },
        "id": "TdnHNZCvWw7_",
        "outputId": "24bb7b00-2fd0-4683-b8a9-668cec6dde68"
      },
      "outputs": [
        {
          "data": {
            "text/plain": [
              "array(['None', 'neutro', 'positivo', 'negativo'], dtype=object)"
            ]
          },
          "execution_count": 5,
          "metadata": {},
          "output_type": "execute_result"
        }
      ],
      "source": [
        "#Compruebo que solo existen cuatro etiquetas: None, neutro, positivo y negativo.\n",
        "tweets['Etiqueta'].unique()"
      ]
    },
    {
      "cell_type": "code",
      "execution_count": null,
      "metadata": {
        "colab": {
          "base_uri": "https://localhost:8080/",
          "height": 175
        },
        "id": "RGf0ZVkPWw7_",
        "outputId": "edf4fae0-62f0-4d04-e1b3-d2d59a92038c"
      },
      "outputs": [
        {
          "data": {
            "text/html": [
              "<div>\n",
              "<style scoped>\n",
              "    .dataframe tbody tr th:only-of-type {\n",
              "        vertical-align: middle;\n",
              "    }\n",
              "\n",
              "    .dataframe tbody tr th {\n",
              "        vertical-align: top;\n",
              "    }\n",
              "\n",
              "    .dataframe thead th {\n",
              "        text-align: right;\n",
              "    }\n",
              "</style>\n",
              "<table border=\"1\" class=\"dataframe\">\n",
              "  <thead>\n",
              "    <tr style=\"text-align: right;\">\n",
              "      <th></th>\n",
              "      <th>Etiqueta</th>\n",
              "      <th>Count</th>\n",
              "      <th>Porcentaje</th>\n",
              "    </tr>\n",
              "  </thead>\n",
              "  <tbody>\n",
              "    <tr>\n",
              "      <th>0</th>\n",
              "      <td>positivo</td>\n",
              "      <td>2884</td>\n",
              "      <td>0.399501</td>\n",
              "    </tr>\n",
              "    <tr>\n",
              "      <th>1</th>\n",
              "      <td>negativo</td>\n",
              "      <td>2183</td>\n",
              "      <td>0.302396</td>\n",
              "    </tr>\n",
              "    <tr>\n",
              "      <th>2</th>\n",
              "      <td>None</td>\n",
              "      <td>1482</td>\n",
              "      <td>0.205292</td>\n",
              "    </tr>\n",
              "    <tr>\n",
              "      <th>3</th>\n",
              "      <td>neutro</td>\n",
              "      <td>670</td>\n",
              "      <td>0.092811</td>\n",
              "    </tr>\n",
              "  </tbody>\n",
              "</table>\n",
              "</div>"
            ],
            "text/plain": [
              "   Etiqueta  Count  Porcentaje\n",
              "0  positivo   2884    0.399501\n",
              "1  negativo   2183    0.302396\n",
              "2      None   1482    0.205292\n",
              "3    neutro    670    0.092811"
            ]
          },
          "execution_count": 6,
          "metadata": {},
          "output_type": "execute_result"
        }
      ],
      "source": [
        "tweets_count = pd.DataFrame(tweets.groupby(['Etiqueta'])['Etiqueta'].count().rename('Count'))\n",
        "tweets_count['Porcentaje'] = tweets_count['Count']/tweets_count['Count'].sum()\n",
        "tweets_count = tweets_count.sort_values(by = \"Count\", ascending=False).reset_index()\n",
        "tweets_count "
      ]
    },
    {
      "cell_type": "markdown",
      "metadata": {
        "id": "Na7IXI5CYN80"
      },
      "source": [
        "Tras solucionar el problema en los nombres de las etiquetas mediante un replace(), creo un Data Frame con el número tweets que hay de cada etiqueta y el porcentaje que representan sobre el total de tweets.\n",
        "\n",
        "Se puede ver como el 70% de los tweets están clasificados como positivo o negativo."
      ]
    },
    {
      "cell_type": "code",
      "execution_count": null,
      "metadata": {
        "id": "KTpzuuLyWw8A"
      },
      "outputs": [],
      "source": [
        "#Tokenizo y quito los signos de puntuación\n",
        "def tokenize(sentence):\n",
        "    tokens = []\n",
        "    for token in sentence.split():\n",
        "        new_token = []\n",
        "        for character in token:\n",
        "            if character not in punctuation:\n",
        "                new_token.append(character.lower())\n",
        "        if new_token:\n",
        "            tokens.append(\"\".join(new_token))\n",
        "    return tokens "
      ]
    },
    {
      "cell_type": "code",
      "execution_count": null,
      "metadata": {
        "colab": {
          "base_uri": "https://localhost:8080/"
        },
        "id": "fuJ0CiCyWw8A",
        "outputId": "3a350fd4-64cf-4080-c6a8-711cb504895a"
      },
      "outputs": [
        {
          "name": "stdout",
          "output_type": "stream",
          "text": [
            "<class 'pandas.core.series.Series'>\n"
          ]
        },
        {
          "data": {
            "text/plain": [
              "0        [salgo, de, veotv, que, día, más, largoooooo]\n",
              "1    [pauladelasheras, no, te, libraras, de, ayudar...\n",
              "2                         [marodriguezb, gracias, mar]\n",
              "3    [off, pensando, en, el, regalito, sinde, la, q...\n",
              "4    [conozco, a, alguien, q, es, adicto, al, drama...\n",
              "Name: Texto, dtype: object"
            ]
          },
          "execution_count": 8,
          "metadata": {},
          "output_type": "execute_result"
        }
      ],
      "source": [
        "print(type(tweets.head()[\"Texto\"]))\n",
        "tweets.head()[\"Texto\"].apply(tokenize)"
      ]
    },
    {
      "cell_type": "markdown",
      "metadata": {
        "id": "_LadecxAZPzK"
      },
      "source": [
        "Se puede ver como he \"normalizado\" el texto, es decir, ahora todo el texto está en el mismo formato y no hay signos de exclamación, hashtags, etc..."
      ]
    },
    {
      "cell_type": "code",
      "execution_count": null,
      "metadata": {
        "id": "bD2xoRILWw8A"
      },
      "outputs": [],
      "source": [
        "docs = tweets.iloc[:,0] \n",
        "categs = tweets.iloc[:,-1] "
      ]
    },
    {
      "cell_type": "markdown",
      "metadata": {
        "id": "B_9HprHTY1CM"
      },
      "source": [
        "Separo los documentos y sus categorías (docs y categs son series de Pandas). \n",
        "\n",
        "Hay que separar las categorías de los documentos para diferenciar entre texto y etiquetas y así poder crear la matriz Tf-idf, separar en train y test, y aplicar los algoritmos de clasificación."
      ]
    },
    {
      "cell_type": "code",
      "execution_count": null,
      "metadata": {
        "colab": {
          "base_uri": "https://localhost:8080/"
        },
        "id": "bUCgUhpUWw8A",
        "outputId": "6f126a4b-e252-43d1-b19d-a2ce9d9aefdf"
      },
      "outputs": [
        {
          "name": "stdout",
          "output_type": "stream",
          "text": [
            "Datos es tipo:  <class 'pandas.core.frame.DataFrame'>\n",
            "Docs es tipo:  <class 'pandas.core.series.Series'>\n",
            "Categs es tipo:  <class 'pandas.core.series.Series'>\n"
          ]
        }
      ],
      "source": [
        "print(\"Datos es tipo: \", type(tweets))\n",
        "print(\"Docs es tipo: \", type(docs))\n",
        "print(\"Categs es tipo: \", type(categs))"
      ]
    },
    {
      "cell_type": "markdown",
      "metadata": {
        "id": "HgwRCwcVaA-3"
      },
      "source": [
        "### **1.3. Tf-idf (Term Frecuency – Inverse Document Frecuency)**"
      ]
    },
    {
      "cell_type": "code",
      "execution_count": null,
      "metadata": {
        "id": "BMo0OwkKWw8B"
      },
      "outputs": [],
      "source": [
        "tfifd_vec_mf = TfidfVectorizer(max_features = 20)\n",
        "TFIDF_mf = tfifd_vec_mf.fit_transform(docs)"
      ]
    },
    {
      "cell_type": "code",
      "execution_count": null,
      "metadata": {
        "colab": {
          "base_uri": "https://localhost:8080/",
          "height": 523
        },
        "id": "BqPjABTjWw8B",
        "outputId": "dfc70132-0a09-4a81-f8f8-c5dedbe01147"
      },
      "outputs": [
        {
          "name": "stderr",
          "output_type": "stream",
          "text": [
            "/Users/alvaropayo/Library/Python/3.10/lib/python/site-packages/sklearn/utils/deprecation.py:87: FutureWarning: Function get_feature_names is deprecated; get_feature_names is deprecated in 1.0 and will be removed in 1.2. Please use get_feature_names_out instead.\n",
            "  warnings.warn(msg, category=FutureWarning)\n"
          ]
        },
        {
          "data": {
            "text/html": [
              "<div>\n",
              "<style scoped>\n",
              "    .dataframe tbody tr th:only-of-type {\n",
              "        vertical-align: middle;\n",
              "    }\n",
              "\n",
              "    .dataframe tbody tr th {\n",
              "        vertical-align: top;\n",
              "    }\n",
              "\n",
              "    .dataframe thead th {\n",
              "        text-align: right;\n",
              "    }\n",
              "</style>\n",
              "<table border=\"1\" class=\"dataframe\">\n",
              "  <thead>\n",
              "    <tr style=\"text-align: right;\">\n",
              "      <th></th>\n",
              "      <th>co</th>\n",
              "      <th>con</th>\n",
              "      <th>de</th>\n",
              "      <th>del</th>\n",
              "      <th>el</th>\n",
              "      <th>en</th>\n",
              "      <th>es</th>\n",
              "      <th>http</th>\n",
              "      <th>la</th>\n",
              "      <th>las</th>\n",
              "      <th>lo</th>\n",
              "      <th>los</th>\n",
              "      <th>no</th>\n",
              "      <th>para</th>\n",
              "      <th>por</th>\n",
              "      <th>que</th>\n",
              "      <th>rt</th>\n",
              "      <th>se</th>\n",
              "      <th>un</th>\n",
              "      <th>una</th>\n",
              "    </tr>\n",
              "  </thead>\n",
              "  <tbody>\n",
              "    <tr>\n",
              "      <th>0</th>\n",
              "      <td>0.000000</td>\n",
              "      <td>0.000000</td>\n",
              "      <td>0.576433</td>\n",
              "      <td>0.0</td>\n",
              "      <td>0.000000</td>\n",
              "      <td>0.000000</td>\n",
              "      <td>0.0</td>\n",
              "      <td>0.000000</td>\n",
              "      <td>0.000000</td>\n",
              "      <td>0.0</td>\n",
              "      <td>0.000000</td>\n",
              "      <td>0.0</td>\n",
              "      <td>0.000000</td>\n",
              "      <td>0.000000</td>\n",
              "      <td>0.000000</td>\n",
              "      <td>0.817144</td>\n",
              "      <td>0.000000</td>\n",
              "      <td>0.000000</td>\n",
              "      <td>0.000000</td>\n",
              "      <td>0.0</td>\n",
              "    </tr>\n",
              "    <tr>\n",
              "      <th>1</th>\n",
              "      <td>0.000000</td>\n",
              "      <td>0.000000</td>\n",
              "      <td>0.508857</td>\n",
              "      <td>0.0</td>\n",
              "      <td>0.000000</td>\n",
              "      <td>0.000000</td>\n",
              "      <td>0.0</td>\n",
              "      <td>0.000000</td>\n",
              "      <td>0.000000</td>\n",
              "      <td>0.0</td>\n",
              "      <td>0.000000</td>\n",
              "      <td>0.0</td>\n",
              "      <td>0.860851</td>\n",
              "      <td>0.000000</td>\n",
              "      <td>0.000000</td>\n",
              "      <td>0.000000</td>\n",
              "      <td>0.000000</td>\n",
              "      <td>0.000000</td>\n",
              "      <td>0.000000</td>\n",
              "      <td>0.0</td>\n",
              "    </tr>\n",
              "    <tr>\n",
              "      <th>2</th>\n",
              "      <td>0.000000</td>\n",
              "      <td>0.000000</td>\n",
              "      <td>0.000000</td>\n",
              "      <td>0.0</td>\n",
              "      <td>0.000000</td>\n",
              "      <td>0.000000</td>\n",
              "      <td>0.0</td>\n",
              "      <td>0.000000</td>\n",
              "      <td>0.000000</td>\n",
              "      <td>0.0</td>\n",
              "      <td>0.000000</td>\n",
              "      <td>0.0</td>\n",
              "      <td>0.000000</td>\n",
              "      <td>0.000000</td>\n",
              "      <td>0.000000</td>\n",
              "      <td>0.000000</td>\n",
              "      <td>0.000000</td>\n",
              "      <td>0.000000</td>\n",
              "      <td>0.000000</td>\n",
              "      <td>0.0</td>\n",
              "    </tr>\n",
              "    <tr>\n",
              "      <th>3</th>\n",
              "      <td>0.000000</td>\n",
              "      <td>0.000000</td>\n",
              "      <td>0.175414</td>\n",
              "      <td>0.0</td>\n",
              "      <td>0.206463</td>\n",
              "      <td>0.213866</td>\n",
              "      <td>0.0</td>\n",
              "      <td>0.000000</td>\n",
              "      <td>0.407815</td>\n",
              "      <td>0.0</td>\n",
              "      <td>0.358263</td>\n",
              "      <td>0.0</td>\n",
              "      <td>0.296754</td>\n",
              "      <td>0.000000</td>\n",
              "      <td>0.000000</td>\n",
              "      <td>0.248665</td>\n",
              "      <td>0.000000</td>\n",
              "      <td>0.660531</td>\n",
              "      <td>0.000000</td>\n",
              "      <td>0.0</td>\n",
              "    </tr>\n",
              "    <tr>\n",
              "      <th>4</th>\n",
              "      <td>0.000000</td>\n",
              "      <td>0.000000</td>\n",
              "      <td>0.000000</td>\n",
              "      <td>0.0</td>\n",
              "      <td>0.000000</td>\n",
              "      <td>0.000000</td>\n",
              "      <td>1.0</td>\n",
              "      <td>0.000000</td>\n",
              "      <td>0.000000</td>\n",
              "      <td>0.0</td>\n",
              "      <td>0.000000</td>\n",
              "      <td>0.0</td>\n",
              "      <td>0.000000</td>\n",
              "      <td>0.000000</td>\n",
              "      <td>0.000000</td>\n",
              "      <td>0.000000</td>\n",
              "      <td>0.000000</td>\n",
              "      <td>0.000000</td>\n",
              "      <td>0.000000</td>\n",
              "      <td>0.0</td>\n",
              "    </tr>\n",
              "    <tr>\n",
              "      <th>...</th>\n",
              "      <td>...</td>\n",
              "      <td>...</td>\n",
              "      <td>...</td>\n",
              "      <td>...</td>\n",
              "      <td>...</td>\n",
              "      <td>...</td>\n",
              "      <td>...</td>\n",
              "      <td>...</td>\n",
              "      <td>...</td>\n",
              "      <td>...</td>\n",
              "      <td>...</td>\n",
              "      <td>...</td>\n",
              "      <td>...</td>\n",
              "      <td>...</td>\n",
              "      <td>...</td>\n",
              "      <td>...</td>\n",
              "      <td>...</td>\n",
              "      <td>...</td>\n",
              "      <td>...</td>\n",
              "      <td>...</td>\n",
              "    </tr>\n",
              "    <tr>\n",
              "      <th>7214</th>\n",
              "      <td>0.410222</td>\n",
              "      <td>0.000000</td>\n",
              "      <td>0.000000</td>\n",
              "      <td>0.0</td>\n",
              "      <td>0.000000</td>\n",
              "      <td>0.413801</td>\n",
              "      <td>0.0</td>\n",
              "      <td>0.411646</td>\n",
              "      <td>0.000000</td>\n",
              "      <td>0.0</td>\n",
              "      <td>0.000000</td>\n",
              "      <td>0.0</td>\n",
              "      <td>0.000000</td>\n",
              "      <td>0.000000</td>\n",
              "      <td>0.000000</td>\n",
              "      <td>0.000000</td>\n",
              "      <td>0.700738</td>\n",
              "      <td>0.000000</td>\n",
              "      <td>0.000000</td>\n",
              "      <td>0.0</td>\n",
              "    </tr>\n",
              "    <tr>\n",
              "      <th>7215</th>\n",
              "      <td>0.432670</td>\n",
              "      <td>0.000000</td>\n",
              "      <td>0.000000</td>\n",
              "      <td>0.0</td>\n",
              "      <td>0.000000</td>\n",
              "      <td>0.000000</td>\n",
              "      <td>0.0</td>\n",
              "      <td>0.434172</td>\n",
              "      <td>0.416123</td>\n",
              "      <td>0.0</td>\n",
              "      <td>0.000000</td>\n",
              "      <td>0.0</td>\n",
              "      <td>0.000000</td>\n",
              "      <td>0.000000</td>\n",
              "      <td>0.671664</td>\n",
              "      <td>0.000000</td>\n",
              "      <td>0.000000</td>\n",
              "      <td>0.000000</td>\n",
              "      <td>0.000000</td>\n",
              "      <td>0.0</td>\n",
              "    </tr>\n",
              "    <tr>\n",
              "      <th>7216</th>\n",
              "      <td>0.299191</td>\n",
              "      <td>0.431245</td>\n",
              "      <td>0.495079</td>\n",
              "      <td>0.0</td>\n",
              "      <td>0.000000</td>\n",
              "      <td>0.000000</td>\n",
              "      <td>0.0</td>\n",
              "      <td>0.300230</td>\n",
              "      <td>0.000000</td>\n",
              "      <td>0.0</td>\n",
              "      <td>0.000000</td>\n",
              "      <td>0.0</td>\n",
              "      <td>0.000000</td>\n",
              "      <td>0.444568</td>\n",
              "      <td>0.000000</td>\n",
              "      <td>0.000000</td>\n",
              "      <td>0.000000</td>\n",
              "      <td>0.000000</td>\n",
              "      <td>0.437755</td>\n",
              "      <td>0.0</td>\n",
              "    </tr>\n",
              "    <tr>\n",
              "      <th>7217</th>\n",
              "      <td>0.423247</td>\n",
              "      <td>0.000000</td>\n",
              "      <td>0.350179</td>\n",
              "      <td>0.0</td>\n",
              "      <td>0.412162</td>\n",
              "      <td>0.426940</td>\n",
              "      <td>0.0</td>\n",
              "      <td>0.424716</td>\n",
              "      <td>0.407060</td>\n",
              "      <td>0.0</td>\n",
              "      <td>0.000000</td>\n",
              "      <td>0.0</td>\n",
              "      <td>0.000000</td>\n",
              "      <td>0.000000</td>\n",
              "      <td>0.000000</td>\n",
              "      <td>0.000000</td>\n",
              "      <td>0.000000</td>\n",
              "      <td>0.000000</td>\n",
              "      <td>0.000000</td>\n",
              "      <td>0.0</td>\n",
              "    </tr>\n",
              "    <tr>\n",
              "      <th>7218</th>\n",
              "      <td>0.000000</td>\n",
              "      <td>0.000000</td>\n",
              "      <td>0.000000</td>\n",
              "      <td>0.0</td>\n",
              "      <td>0.000000</td>\n",
              "      <td>0.000000</td>\n",
              "      <td>0.0</td>\n",
              "      <td>0.000000</td>\n",
              "      <td>1.000000</td>\n",
              "      <td>0.0</td>\n",
              "      <td>0.000000</td>\n",
              "      <td>0.0</td>\n",
              "      <td>0.000000</td>\n",
              "      <td>0.000000</td>\n",
              "      <td>0.000000</td>\n",
              "      <td>0.000000</td>\n",
              "      <td>0.000000</td>\n",
              "      <td>0.000000</td>\n",
              "      <td>0.000000</td>\n",
              "      <td>0.0</td>\n",
              "    </tr>\n",
              "  </tbody>\n",
              "</table>\n",
              "<p>7219 rows × 20 columns</p>\n",
              "</div>"
            ],
            "text/plain": [
              "            co       con        de  del        el        en   es      http  \\\n",
              "0     0.000000  0.000000  0.576433  0.0  0.000000  0.000000  0.0  0.000000   \n",
              "1     0.000000  0.000000  0.508857  0.0  0.000000  0.000000  0.0  0.000000   \n",
              "2     0.000000  0.000000  0.000000  0.0  0.000000  0.000000  0.0  0.000000   \n",
              "3     0.000000  0.000000  0.175414  0.0  0.206463  0.213866  0.0  0.000000   \n",
              "4     0.000000  0.000000  0.000000  0.0  0.000000  0.000000  1.0  0.000000   \n",
              "...        ...       ...       ...  ...       ...       ...  ...       ...   \n",
              "7214  0.410222  0.000000  0.000000  0.0  0.000000  0.413801  0.0  0.411646   \n",
              "7215  0.432670  0.000000  0.000000  0.0  0.000000  0.000000  0.0  0.434172   \n",
              "7216  0.299191  0.431245  0.495079  0.0  0.000000  0.000000  0.0  0.300230   \n",
              "7217  0.423247  0.000000  0.350179  0.0  0.412162  0.426940  0.0  0.424716   \n",
              "7218  0.000000  0.000000  0.000000  0.0  0.000000  0.000000  0.0  0.000000   \n",
              "\n",
              "            la  las        lo  los        no      para       por       que  \\\n",
              "0     0.000000  0.0  0.000000  0.0  0.000000  0.000000  0.000000  0.817144   \n",
              "1     0.000000  0.0  0.000000  0.0  0.860851  0.000000  0.000000  0.000000   \n",
              "2     0.000000  0.0  0.000000  0.0  0.000000  0.000000  0.000000  0.000000   \n",
              "3     0.407815  0.0  0.358263  0.0  0.296754  0.000000  0.000000  0.248665   \n",
              "4     0.000000  0.0  0.000000  0.0  0.000000  0.000000  0.000000  0.000000   \n",
              "...        ...  ...       ...  ...       ...       ...       ...       ...   \n",
              "7214  0.000000  0.0  0.000000  0.0  0.000000  0.000000  0.000000  0.000000   \n",
              "7215  0.416123  0.0  0.000000  0.0  0.000000  0.000000  0.671664  0.000000   \n",
              "7216  0.000000  0.0  0.000000  0.0  0.000000  0.444568  0.000000  0.000000   \n",
              "7217  0.407060  0.0  0.000000  0.0  0.000000  0.000000  0.000000  0.000000   \n",
              "7218  1.000000  0.0  0.000000  0.0  0.000000  0.000000  0.000000  0.000000   \n",
              "\n",
              "            rt        se        un  una  \n",
              "0     0.000000  0.000000  0.000000  0.0  \n",
              "1     0.000000  0.000000  0.000000  0.0  \n",
              "2     0.000000  0.000000  0.000000  0.0  \n",
              "3     0.000000  0.660531  0.000000  0.0  \n",
              "4     0.000000  0.000000  0.000000  0.0  \n",
              "...        ...       ...       ...  ...  \n",
              "7214  0.700738  0.000000  0.000000  0.0  \n",
              "7215  0.000000  0.000000  0.000000  0.0  \n",
              "7216  0.000000  0.000000  0.437755  0.0  \n",
              "7217  0.000000  0.000000  0.000000  0.0  \n",
              "7218  0.000000  0.000000  0.000000  0.0  \n",
              "\n",
              "[7219 rows x 20 columns]"
            ]
          },
          "execution_count": 12,
          "metadata": {},
          "output_type": "execute_result"
        }
      ],
      "source": [
        "#Visualización de la matriz Tf-idf\n",
        "\n",
        "#Obtengo el vocabulario para poner las etiquetas de las columnas.\n",
        "vocab_tfidf_mf = tfifd_vec_mf.get_feature_names()\n",
        "\n",
        "#Y construyo un dataframe para mostrar el resultado: por cada documento las ocurrencias de cada token.\n",
        "pd.DataFrame(TFIDF_mf.toarray(), columns = vocab_tfidf_mf)"
      ]
    },
    {
      "cell_type": "markdown",
      "metadata": {
        "id": "0Ep0LfBFahcO"
      },
      "source": [
        "Cada fila representa un documento, y cada columna un término del vocabulario. Las columnas que aparecen son los 20 términos que más se repiten en el texto."
      ]
    },
    {
      "cell_type": "markdown",
      "metadata": {
        "id": "93oCB_13bNj9"
      },
      "source": [
        "### **1.4. División en train y test**"
      ]
    },
    {
      "cell_type": "code",
      "execution_count": null,
      "metadata": {
        "id": "V9mxcY_DWw8B"
      },
      "outputs": [],
      "source": [
        "docs_train, docs_test, categs_train, categs_test = train_test_split(TFIDF_mf, categs, test_size = 0.25, \n",
        "                                                                    random_state = 50)"
      ]
    },
    {
      "cell_type": "markdown",
      "metadata": {
        "id": "UiIarDXrbacc"
      },
      "source": [
        "### **1.5. Aplicación de algoritmos de clasificación**"
      ]
    },
    {
      "cell_type": "markdown",
      "metadata": {
        "id": "MeV7N3Lsfne3"
      },
      "source": [
        "**1.5.1. Clasificación ingenuo bayesiano**"
      ]
    },
    {
      "cell_type": "code",
      "execution_count": null,
      "metadata": {
        "colab": {
          "base_uri": "https://localhost:8080/"
        },
        "id": "JNBWa-IqWw8B",
        "outputId": "ad83ebf6-f5e4-40b1-b3c4-994eb7ad2937"
      },
      "outputs": [
        {
          "data": {
            "text/html": [
              "<style>#sk-container-id-1 {color: black;background-color: white;}#sk-container-id-1 pre{padding: 0;}#sk-container-id-1 div.sk-toggleable {background-color: white;}#sk-container-id-1 label.sk-toggleable__label {cursor: pointer;display: block;width: 100%;margin-bottom: 0;padding: 0.3em;box-sizing: border-box;text-align: center;}#sk-container-id-1 label.sk-toggleable__label-arrow:before {content: \"▸\";float: left;margin-right: 0.25em;color: #696969;}#sk-container-id-1 label.sk-toggleable__label-arrow:hover:before {color: black;}#sk-container-id-1 div.sk-estimator:hover label.sk-toggleable__label-arrow:before {color: black;}#sk-container-id-1 div.sk-toggleable__content {max-height: 0;max-width: 0;overflow: hidden;text-align: left;background-color: #f0f8ff;}#sk-container-id-1 div.sk-toggleable__content pre {margin: 0.2em;color: black;border-radius: 0.25em;background-color: #f0f8ff;}#sk-container-id-1 input.sk-toggleable__control:checked~div.sk-toggleable__content {max-height: 200px;max-width: 100%;overflow: auto;}#sk-container-id-1 input.sk-toggleable__control:checked~label.sk-toggleable__label-arrow:before {content: \"▾\";}#sk-container-id-1 div.sk-estimator input.sk-toggleable__control:checked~label.sk-toggleable__label {background-color: #d4ebff;}#sk-container-id-1 div.sk-label input.sk-toggleable__control:checked~label.sk-toggleable__label {background-color: #d4ebff;}#sk-container-id-1 input.sk-hidden--visually {border: 0;clip: rect(1px 1px 1px 1px);clip: rect(1px, 1px, 1px, 1px);height: 1px;margin: -1px;overflow: hidden;padding: 0;position: absolute;width: 1px;}#sk-container-id-1 div.sk-estimator {font-family: monospace;background-color: #f0f8ff;border: 1px dotted black;border-radius: 0.25em;box-sizing: border-box;margin-bottom: 0.5em;}#sk-container-id-1 div.sk-estimator:hover {background-color: #d4ebff;}#sk-container-id-1 div.sk-parallel-item::after {content: \"\";width: 100%;border-bottom: 1px solid gray;flex-grow: 1;}#sk-container-id-1 div.sk-label:hover label.sk-toggleable__label {background-color: #d4ebff;}#sk-container-id-1 div.sk-serial::before {content: \"\";position: absolute;border-left: 1px solid gray;box-sizing: border-box;top: 0;bottom: 0;left: 50%;z-index: 0;}#sk-container-id-1 div.sk-serial {display: flex;flex-direction: column;align-items: center;background-color: white;padding-right: 0.2em;padding-left: 0.2em;position: relative;}#sk-container-id-1 div.sk-item {position: relative;z-index: 1;}#sk-container-id-1 div.sk-parallel {display: flex;align-items: stretch;justify-content: center;background-color: white;position: relative;}#sk-container-id-1 div.sk-item::before, #sk-container-id-1 div.sk-parallel-item::before {content: \"\";position: absolute;border-left: 1px solid gray;box-sizing: border-box;top: 0;bottom: 0;left: 50%;z-index: -1;}#sk-container-id-1 div.sk-parallel-item {display: flex;flex-direction: column;z-index: 1;position: relative;background-color: white;}#sk-container-id-1 div.sk-parallel-item:first-child::after {align-self: flex-end;width: 50%;}#sk-container-id-1 div.sk-parallel-item:last-child::after {align-self: flex-start;width: 50%;}#sk-container-id-1 div.sk-parallel-item:only-child::after {width: 0;}#sk-container-id-1 div.sk-dashed-wrapped {border: 1px dashed gray;margin: 0 0.4em 0.5em 0.4em;box-sizing: border-box;padding-bottom: 0.4em;background-color: white;}#sk-container-id-1 div.sk-label label {font-family: monospace;font-weight: bold;display: inline-block;line-height: 1.2em;}#sk-container-id-1 div.sk-label-container {text-align: center;}#sk-container-id-1 div.sk-container {/* jupyter's `normalize.less` sets `[hidden] { display: none; }` but bootstrap.min.css set `[hidden] { display: none !important; }` so we also need the `!important` here to be able to override the default hidden behavior on the sphinx rendered scikit-learn.org. See: https://github.com/scikit-learn/scikit-learn/issues/21755 */display: inline-block !important;position: relative;}#sk-container-id-1 div.sk-text-repr-fallback {display: none;}</style><div id=\"sk-container-id-1\" class=\"sk-top-container\"><div class=\"sk-text-repr-fallback\"><pre>MultinomialNB()</pre><b>In a Jupyter environment, please rerun this cell to show the HTML representation or trust the notebook. <br />On GitHub, the HTML representation is unable to render, please try loading this page with nbviewer.org.</b></div><div class=\"sk-container\" hidden><div class=\"sk-item\"><div class=\"sk-estimator sk-toggleable\"><input class=\"sk-toggleable__control sk-hidden--visually\" id=\"sk-estimator-id-1\" type=\"checkbox\" checked><label for=\"sk-estimator-id-1\" class=\"sk-toggleable__label sk-toggleable__label-arrow\">MultinomialNB</label><div class=\"sk-toggleable__content\"><pre>MultinomialNB()</pre></div></div></div></div></div>"
            ],
            "text/plain": [
              "MultinomialNB()"
            ]
          },
          "execution_count": 14,
          "metadata": {},
          "output_type": "execute_result"
        }
      ],
      "source": [
        "#Entrenamiento del clasificador NB\n",
        "clf = MultinomialNB()\n",
        "clf.fit(docs_train, categs_train) "
      ]
    },
    {
      "cell_type": "code",
      "execution_count": null,
      "metadata": {
        "id": "NmxEtdtqWw8C"
      },
      "outputs": [],
      "source": [
        "#Predicción del set de test\n",
        "categs_pred_mf = clf.predict(docs_test)"
      ]
    },
    {
      "cell_type": "code",
      "execution_count": null,
      "metadata": {
        "colab": {
          "base_uri": "https://localhost:8080/"
        },
        "id": "Cc5dGZOnWw8C",
        "outputId": "02950f71-2157-4869-ff5a-36e8bcdb4fec"
      },
      "outputs": [
        {
          "data": {
            "text/plain": [
              "array([[ 78,  29,   0, 242],\n",
              "       [ 14, 155,   0, 375],\n",
              "       [  4,  62,   0, 102],\n",
              "       [ 51, 116,   0, 577]])"
            ]
          },
          "execution_count": 16,
          "metadata": {},
          "output_type": "execute_result"
        }
      ],
      "source": [
        "#Confusion Matrix\n",
        "cm = confusion_matrix(categs_test, categs_pred_mf)\n",
        "cm "
      ]
    },
    {
      "cell_type": "code",
      "execution_count": null,
      "metadata": {
        "colab": {
          "base_uri": "https://localhost:8080/"
        },
        "id": "OLdXLDR4Ww8C",
        "outputId": "1067b995-96f1-4a41-e773-323d069a30d9"
      },
      "outputs": [
        {
          "name": "stdout",
          "output_type": "stream",
          "text": [
            "Accuracy train:  0.4619504987070558\n",
            "Accuracy test:  0.4487534626038781\n",
            "Fiabilidad:  0.9714319258446206\n"
          ]
        }
      ],
      "source": [
        "#Metrics\n",
        "acc_train_mf = clf.score(docs_train, categs_train)\n",
        "acc_test_mf = clf.score(docs_test, categs_test)\n",
        "\n",
        "print(\"Accuracy train: \", acc_train_mf)\n",
        "print(\"Accuracy test: \", acc_test_mf)\n",
        "print(\"Fiabilidad: \", acc_test_mf / acc_train_mf)  "
      ]
    },
    {
      "cell_type": "markdown",
      "metadata": {
        "id": "ggH5r8FHf6bw"
      },
      "source": [
        "**1.5.2. SVM (Support Vector Machine)**"
      ]
    },
    {
      "cell_type": "code",
      "execution_count": null,
      "metadata": {
        "colab": {
          "base_uri": "https://localhost:8080/"
        },
        "id": "KmN46E_PWw8C",
        "outputId": "ce302489-952a-4b8b-d2a8-579bea19050b"
      },
      "outputs": [
        {
          "data": {
            "text/html": [
              "<style>#sk-container-id-2 {color: black;background-color: white;}#sk-container-id-2 pre{padding: 0;}#sk-container-id-2 div.sk-toggleable {background-color: white;}#sk-container-id-2 label.sk-toggleable__label {cursor: pointer;display: block;width: 100%;margin-bottom: 0;padding: 0.3em;box-sizing: border-box;text-align: center;}#sk-container-id-2 label.sk-toggleable__label-arrow:before {content: \"▸\";float: left;margin-right: 0.25em;color: #696969;}#sk-container-id-2 label.sk-toggleable__label-arrow:hover:before {color: black;}#sk-container-id-2 div.sk-estimator:hover label.sk-toggleable__label-arrow:before {color: black;}#sk-container-id-2 div.sk-toggleable__content {max-height: 0;max-width: 0;overflow: hidden;text-align: left;background-color: #f0f8ff;}#sk-container-id-2 div.sk-toggleable__content pre {margin: 0.2em;color: black;border-radius: 0.25em;background-color: #f0f8ff;}#sk-container-id-2 input.sk-toggleable__control:checked~div.sk-toggleable__content {max-height: 200px;max-width: 100%;overflow: auto;}#sk-container-id-2 input.sk-toggleable__control:checked~label.sk-toggleable__label-arrow:before {content: \"▾\";}#sk-container-id-2 div.sk-estimator input.sk-toggleable__control:checked~label.sk-toggleable__label {background-color: #d4ebff;}#sk-container-id-2 div.sk-label input.sk-toggleable__control:checked~label.sk-toggleable__label {background-color: #d4ebff;}#sk-container-id-2 input.sk-hidden--visually {border: 0;clip: rect(1px 1px 1px 1px);clip: rect(1px, 1px, 1px, 1px);height: 1px;margin: -1px;overflow: hidden;padding: 0;position: absolute;width: 1px;}#sk-container-id-2 div.sk-estimator {font-family: monospace;background-color: #f0f8ff;border: 1px dotted black;border-radius: 0.25em;box-sizing: border-box;margin-bottom: 0.5em;}#sk-container-id-2 div.sk-estimator:hover {background-color: #d4ebff;}#sk-container-id-2 div.sk-parallel-item::after {content: \"\";width: 100%;border-bottom: 1px solid gray;flex-grow: 1;}#sk-container-id-2 div.sk-label:hover label.sk-toggleable__label {background-color: #d4ebff;}#sk-container-id-2 div.sk-serial::before {content: \"\";position: absolute;border-left: 1px solid gray;box-sizing: border-box;top: 0;bottom: 0;left: 50%;z-index: 0;}#sk-container-id-2 div.sk-serial {display: flex;flex-direction: column;align-items: center;background-color: white;padding-right: 0.2em;padding-left: 0.2em;position: relative;}#sk-container-id-2 div.sk-item {position: relative;z-index: 1;}#sk-container-id-2 div.sk-parallel {display: flex;align-items: stretch;justify-content: center;background-color: white;position: relative;}#sk-container-id-2 div.sk-item::before, #sk-container-id-2 div.sk-parallel-item::before {content: \"\";position: absolute;border-left: 1px solid gray;box-sizing: border-box;top: 0;bottom: 0;left: 50%;z-index: -1;}#sk-container-id-2 div.sk-parallel-item {display: flex;flex-direction: column;z-index: 1;position: relative;background-color: white;}#sk-container-id-2 div.sk-parallel-item:first-child::after {align-self: flex-end;width: 50%;}#sk-container-id-2 div.sk-parallel-item:last-child::after {align-self: flex-start;width: 50%;}#sk-container-id-2 div.sk-parallel-item:only-child::after {width: 0;}#sk-container-id-2 div.sk-dashed-wrapped {border: 1px dashed gray;margin: 0 0.4em 0.5em 0.4em;box-sizing: border-box;padding-bottom: 0.4em;background-color: white;}#sk-container-id-2 div.sk-label label {font-family: monospace;font-weight: bold;display: inline-block;line-height: 1.2em;}#sk-container-id-2 div.sk-label-container {text-align: center;}#sk-container-id-2 div.sk-container {/* jupyter's `normalize.less` sets `[hidden] { display: none; }` but bootstrap.min.css set `[hidden] { display: none !important; }` so we also need the `!important` here to be able to override the default hidden behavior on the sphinx rendered scikit-learn.org. See: https://github.com/scikit-learn/scikit-learn/issues/21755 */display: inline-block !important;position: relative;}#sk-container-id-2 div.sk-text-repr-fallback {display: none;}</style><div id=\"sk-container-id-2\" class=\"sk-top-container\"><div class=\"sk-text-repr-fallback\"><pre>LinearSVC()</pre><b>In a Jupyter environment, please rerun this cell to show the HTML representation or trust the notebook. <br />On GitHub, the HTML representation is unable to render, please try loading this page with nbviewer.org.</b></div><div class=\"sk-container\" hidden><div class=\"sk-item\"><div class=\"sk-estimator sk-toggleable\"><input class=\"sk-toggleable__control sk-hidden--visually\" id=\"sk-estimator-id-2\" type=\"checkbox\" checked><label for=\"sk-estimator-id-2\" class=\"sk-toggleable__label sk-toggleable__label-arrow\">LinearSVC</label><div class=\"sk-toggleable__content\"><pre>LinearSVC()</pre></div></div></div></div></div>"
            ],
            "text/plain": [
              "LinearSVC()"
            ]
          },
          "execution_count": 18,
          "metadata": {},
          "output_type": "execute_result"
        }
      ],
      "source": [
        "classifier = LinearSVC()\n",
        "classifier.fit(docs_train, categs_train)\n",
        "LinearSVC(C=1.0, class_weight = None, dual = True, fit_intercept = True,\n",
        "          intercept_scaling = 1, loss = 'squared_hinge', max_iter = 1000,\n",
        "          multi_class = 'ovr', penalty = 'l2', random_state = None, tol = 0.0001,\n",
        "          verbose = 0)"
      ]
    },
    {
      "cell_type": "code",
      "execution_count": null,
      "metadata": {
        "colab": {
          "base_uri": "https://localhost:8080/"
        },
        "id": "39mgDgw3hqb9",
        "outputId": "e4f1e6c1-9fd5-4b4e-840b-7ec1106850b2"
      },
      "outputs": [
        {
          "data": {
            "text/plain": [
              "array([[105,  54,   0, 190],\n",
              "       [ 39, 242,   0, 263],\n",
              "       [  9,  83,   0,  76],\n",
              "       [ 87, 185,   0, 472]])"
            ]
          },
          "execution_count": 19,
          "metadata": {},
          "output_type": "execute_result"
        }
      ],
      "source": [
        "#Confusion Matrix\n",
        "categs_pred_mf2 = classifier.predict(docs_test)\n",
        "cm_mf = confusion_matrix(categs_test, categs_pred_mf2)\n",
        "cm_mf"
      ]
    },
    {
      "cell_type": "code",
      "execution_count": null,
      "metadata": {
        "colab": {
          "base_uri": "https://localhost:8080/"
        },
        "id": "-LjwleqnWw8D",
        "outputId": "b80036bd-596d-40d2-fdfc-2aa933912087"
      },
      "outputs": [
        {
          "name": "stdout",
          "output_type": "stream",
          "text": [
            "Accuracy: 45.3740%\n"
          ]
        }
      ],
      "source": [
        "#Accuracy\n",
        "accuracy_mf = accuracy_score(categs_test, categs_pred_mf2)\n",
        "print(f\"Accuracy: {accuracy_mf:.4%}\")"
      ]
    },
    {
      "cell_type": "markdown",
      "metadata": {
        "id": "RFP9oV2FhvKb"
      },
      "source": [
        "## **2. Clasificación quitando stopwords y con max features = 20**"
      ]
    },
    {
      "cell_type": "markdown",
      "metadata": {
        "id": "sCIE3iHbiJUS"
      },
      "source": [
        "### **2.1. Creación del nuevo Data Frame**"
      ]
    },
    {
      "cell_type": "code",
      "execution_count": null,
      "metadata": {
        "id": "ckHiSThgWw8D"
      },
      "outputs": [],
      "source": [
        "stopwords = nltk.corpus.stopwords.words('spanish')\n",
        "tweets['Text_stopwords'] = tweets['Texto'].apply(lambda x: ' '.join([word for word in x.split() if word not in (stopwords)])) "
      ]
    },
    {
      "cell_type": "code",
      "execution_count": null,
      "metadata": {
        "id": "URTYn_61Ww8D",
        "outputId": "0c4e1f8f-de8e-4d90-e946-24bfeaf5d897"
      },
      "outputs": [
        {
          "data": {
            "text/html": [
              "<div>\n",
              "<style scoped>\n",
              "    .dataframe tbody tr th:only-of-type {\n",
              "        vertical-align: middle;\n",
              "    }\n",
              "\n",
              "    .dataframe tbody tr th {\n",
              "        vertical-align: top;\n",
              "    }\n",
              "\n",
              "    .dataframe thead th {\n",
              "        text-align: right;\n",
              "    }\n",
              "</style>\n",
              "<table border=\"1\" class=\"dataframe\">\n",
              "  <thead>\n",
              "    <tr style=\"text-align: right;\">\n",
              "      <th></th>\n",
              "      <th>Texto</th>\n",
              "      <th>Etiqueta</th>\n",
              "    </tr>\n",
              "  </thead>\n",
              "  <tbody>\n",
              "    <tr>\n",
              "      <th>0</th>\n",
              "      <td>Salgo #VeoTV , día largoooooo...</td>\n",
              "      <td>None</td>\n",
              "    </tr>\n",
              "    <tr>\n",
              "      <th>1</th>\n",
              "      <td>@PauladeLasHeras No libraras ayudar me/nos. Be...</td>\n",
              "      <td>neutro</td>\n",
              "    </tr>\n",
              "    <tr>\n",
              "      <th>2</th>\n",
              "      <td>@marodriguezb Gracias MAR</td>\n",
              "      <td>positivo</td>\n",
              "    </tr>\n",
              "    <tr>\n",
              "      <th>3</th>\n",
              "      <td>Off pensando regalito Sinde, va SGAE van corru...</td>\n",
              "      <td>negativo</td>\n",
              "    </tr>\n",
              "    <tr>\n",
              "      <th>4</th>\n",
              "      <td>Conozco alguien q adicto drama! Ja ja ja suena...</td>\n",
              "      <td>positivo</td>\n",
              "    </tr>\n",
              "  </tbody>\n",
              "</table>\n",
              "</div>"
            ],
            "text/plain": [
              "                                               Texto  Etiqueta\n",
              "0                   Salgo #VeoTV , día largoooooo...      None\n",
              "1  @PauladeLasHeras No libraras ayudar me/nos. Be...    neutro\n",
              "2                          @marodriguezb Gracias MAR  positivo\n",
              "3  Off pensando regalito Sinde, va SGAE van corru...  negativo\n",
              "4  Conozco alguien q adicto drama! Ja ja ja suena...  positivo"
            ]
          },
          "execution_count": 22,
          "metadata": {},
          "output_type": "execute_result"
        }
      ],
      "source": [
        "tweets_stopwords = pd.DataFrame ()\n",
        "\n",
        "tweets_stopwords['Texto'] = tweets['Text_stopwords']\n",
        "tweets_stopwords['Etiqueta'] = tweets['Etiqueta']\n",
        "\n",
        "tweets_stopwords.head() "
      ]
    },
    {
      "cell_type": "markdown",
      "metadata": {
        "id": "X4Gx2pjhiVZe"
      },
      "source": [
        "Tras realizar todos los pasos en el Data Frame original, procedo a quitar las stopwords y a realizar de nuevo todos los pasos para ver si hay diferencias en los modelos.\n",
        "\n",
        "A priori, la clasificación con el Data Frame sin stopwords debe ser más precisa ya que estoy quitando las palabras vacías del texto original. "
      ]
    },
    {
      "cell_type": "markdown",
      "metadata": {
        "id": "aDG3r3Y4jKM7"
      },
      "source": [
        "### **2.2. Pre-procesamiento**"
      ]
    },
    {
      "cell_type": "code",
      "execution_count": null,
      "metadata": {
        "id": "YB9TcP4GWw8D",
        "outputId": "285ca51c-5f35-4735-d265-f21f4319a9a1"
      },
      "outputs": [
        {
          "name": "stdout",
          "output_type": "stream",
          "text": [
            "<class 'pandas.core.series.Series'>\n"
          ]
        },
        {
          "data": {
            "text/plain": [
              "0                      [salgo, veotv, día, largoooooo]\n",
              "1    [pauladelasheras, no, libraras, ayudar, menos,...\n",
              "2                         [marodriguezb, gracias, mar]\n",
              "3    [off, pensando, regalito, sinde, va, sgae, van...\n",
              "4    [conozco, alguien, q, adicto, drama, ja, ja, j...\n",
              "Name: Texto, dtype: object"
            ]
          },
          "execution_count": 23,
          "metadata": {},
          "output_type": "execute_result"
        }
      ],
      "source": [
        "print(type(tweets_stopwords.head()[\"Texto\"]))\n",
        "tweets_stopwords.head()[\"Texto\"].apply(tokenize)"
      ]
    },
    {
      "cell_type": "code",
      "execution_count": null,
      "metadata": {
        "id": "KyRWhuomWw8D"
      },
      "outputs": [],
      "source": [
        "docs_stopwords = tweets_stopwords.iloc[:,0] \n",
        "categs_stopwords = tweets_stopwords.iloc[:,-1] "
      ]
    },
    {
      "cell_type": "code",
      "execution_count": null,
      "metadata": {
        "id": "F87TdAClWw8E",
        "outputId": "15d563ee-0ff5-4ddd-9480-4eb9b62abbd1"
      },
      "outputs": [
        {
          "name": "stdout",
          "output_type": "stream",
          "text": [
            "Datos es tipo:  <class 'pandas.core.frame.DataFrame'>\n",
            "Docs es tipo:  <class 'pandas.core.series.Series'>\n",
            "Categs es tipo:  <class 'pandas.core.series.Series'>\n"
          ]
        }
      ],
      "source": [
        "print(\"Datos es tipo: \", type(tweets_stopwords))\n",
        "print(\"Docs es tipo: \", type(docs_stopwords))\n",
        "print(\"Categs es tipo: \", type(categs_stopwords))"
      ]
    },
    {
      "cell_type": "markdown",
      "metadata": {
        "id": "Oo5U-C7RjQzA"
      },
      "source": [
        "### **2.3. Tf-idf (Term Frecuency - Inverse Document Frecuency)**"
      ]
    },
    {
      "cell_type": "code",
      "execution_count": null,
      "metadata": {
        "id": "TjfpdD6WWw8E"
      },
      "outputs": [],
      "source": [
        "TFIDF_stopwords = tfifd_vec_mf.fit_transform(docs_stopwords)"
      ]
    },
    {
      "cell_type": "code",
      "execution_count": null,
      "metadata": {
        "id": "wqvk4vk5Ww8E",
        "outputId": "feb2e5aa-2ecd-4953-dabf-b863e083a176"
      },
      "outputs": [
        {
          "name": "stderr",
          "output_type": "stream",
          "text": [
            "/Users/alvaropayo/Library/Python/3.10/lib/python/site-packages/sklearn/utils/deprecation.py:87: FutureWarning: Function get_feature_names is deprecated; get_feature_names is deprecated in 1.0 and will be removed in 1.2. Please use get_feature_names_out instead.\n",
            "  warnings.warn(msg, category=FutureWarning)\n"
          ]
        },
        {
          "data": {
            "text/html": [
              "<div>\n",
              "<style scoped>\n",
              "    .dataframe tbody tr th:only-of-type {\n",
              "        vertical-align: middle;\n",
              "    }\n",
              "\n",
              "    .dataframe tbody tr th {\n",
              "        vertical-align: top;\n",
              "    }\n",
              "\n",
              "    .dataframe thead th {\n",
              "        text-align: right;\n",
              "    }\n",
              "</style>\n",
              "<table border=\"1\" class=\"dataframe\">\n",
              "  <thead>\n",
              "    <tr style=\"text-align: right;\">\n",
              "      <th></th>\n",
              "      <th>ahora</th>\n",
              "      <th>co</th>\n",
              "      <th>día</th>\n",
              "      <th>el</th>\n",
              "      <th>en</th>\n",
              "      <th>es</th>\n",
              "      <th>gobierno</th>\n",
              "      <th>gracias</th>\n",
              "      <th>hoy</th>\n",
              "      <th>http</th>\n",
              "      <th>la</th>\n",
              "      <th>mañana</th>\n",
              "      <th>no</th>\n",
              "      <th>pp</th>\n",
              "      <th>psoe</th>\n",
              "      <th>que</th>\n",
              "      <th>rajoy</th>\n",
              "      <th>rt</th>\n",
              "      <th>si</th>\n",
              "      <th>un</th>\n",
              "    </tr>\n",
              "  </thead>\n",
              "  <tbody>\n",
              "    <tr>\n",
              "      <th>0</th>\n",
              "      <td>0.0</td>\n",
              "      <td>0.000000</td>\n",
              "      <td>1.0</td>\n",
              "      <td>0.0</td>\n",
              "      <td>0.0</td>\n",
              "      <td>0.0</td>\n",
              "      <td>0.0</td>\n",
              "      <td>0.000000</td>\n",
              "      <td>0.000000</td>\n",
              "      <td>0.000000</td>\n",
              "      <td>0.0</td>\n",
              "      <td>0.0</td>\n",
              "      <td>0.000000</td>\n",
              "      <td>0.0</td>\n",
              "      <td>0.0</td>\n",
              "      <td>0.0</td>\n",
              "      <td>0.000000</td>\n",
              "      <td>0.000000</td>\n",
              "      <td>0.0000</td>\n",
              "      <td>0.0</td>\n",
              "    </tr>\n",
              "    <tr>\n",
              "      <th>1</th>\n",
              "      <td>0.0</td>\n",
              "      <td>0.000000</td>\n",
              "      <td>0.0</td>\n",
              "      <td>0.0</td>\n",
              "      <td>0.0</td>\n",
              "      <td>0.0</td>\n",
              "      <td>0.0</td>\n",
              "      <td>0.710651</td>\n",
              "      <td>0.000000</td>\n",
              "      <td>0.000000</td>\n",
              "      <td>0.0</td>\n",
              "      <td>0.0</td>\n",
              "      <td>0.703545</td>\n",
              "      <td>0.0</td>\n",
              "      <td>0.0</td>\n",
              "      <td>0.0</td>\n",
              "      <td>0.000000</td>\n",
              "      <td>0.000000</td>\n",
              "      <td>0.0000</td>\n",
              "      <td>0.0</td>\n",
              "    </tr>\n",
              "    <tr>\n",
              "      <th>2</th>\n",
              "      <td>0.0</td>\n",
              "      <td>0.000000</td>\n",
              "      <td>0.0</td>\n",
              "      <td>0.0</td>\n",
              "      <td>0.0</td>\n",
              "      <td>0.0</td>\n",
              "      <td>0.0</td>\n",
              "      <td>1.000000</td>\n",
              "      <td>0.000000</td>\n",
              "      <td>0.000000</td>\n",
              "      <td>0.0</td>\n",
              "      <td>0.0</td>\n",
              "      <td>0.000000</td>\n",
              "      <td>0.0</td>\n",
              "      <td>0.0</td>\n",
              "      <td>0.0</td>\n",
              "      <td>0.000000</td>\n",
              "      <td>0.000000</td>\n",
              "      <td>0.0000</td>\n",
              "      <td>0.0</td>\n",
              "    </tr>\n",
              "    <tr>\n",
              "      <th>3</th>\n",
              "      <td>0.0</td>\n",
              "      <td>0.000000</td>\n",
              "      <td>0.0</td>\n",
              "      <td>0.0</td>\n",
              "      <td>0.0</td>\n",
              "      <td>0.0</td>\n",
              "      <td>0.0</td>\n",
              "      <td>0.000000</td>\n",
              "      <td>0.000000</td>\n",
              "      <td>0.000000</td>\n",
              "      <td>0.0</td>\n",
              "      <td>0.0</td>\n",
              "      <td>0.000000</td>\n",
              "      <td>0.0</td>\n",
              "      <td>0.0</td>\n",
              "      <td>0.0</td>\n",
              "      <td>0.000000</td>\n",
              "      <td>0.000000</td>\n",
              "      <td>0.0000</td>\n",
              "      <td>0.0</td>\n",
              "    </tr>\n",
              "    <tr>\n",
              "      <th>4</th>\n",
              "      <td>0.0</td>\n",
              "      <td>0.000000</td>\n",
              "      <td>0.0</td>\n",
              "      <td>0.0</td>\n",
              "      <td>0.0</td>\n",
              "      <td>0.0</td>\n",
              "      <td>0.0</td>\n",
              "      <td>0.000000</td>\n",
              "      <td>0.000000</td>\n",
              "      <td>0.000000</td>\n",
              "      <td>0.0</td>\n",
              "      <td>0.0</td>\n",
              "      <td>0.000000</td>\n",
              "      <td>0.0</td>\n",
              "      <td>0.0</td>\n",
              "      <td>0.0</td>\n",
              "      <td>0.000000</td>\n",
              "      <td>0.000000</td>\n",
              "      <td>0.0000</td>\n",
              "      <td>0.0</td>\n",
              "    </tr>\n",
              "    <tr>\n",
              "      <th>...</th>\n",
              "      <td>...</td>\n",
              "      <td>...</td>\n",
              "      <td>...</td>\n",
              "      <td>...</td>\n",
              "      <td>...</td>\n",
              "      <td>...</td>\n",
              "      <td>...</td>\n",
              "      <td>...</td>\n",
              "      <td>...</td>\n",
              "      <td>...</td>\n",
              "      <td>...</td>\n",
              "      <td>...</td>\n",
              "      <td>...</td>\n",
              "      <td>...</td>\n",
              "      <td>...</td>\n",
              "      <td>...</td>\n",
              "      <td>...</td>\n",
              "      <td>...</td>\n",
              "      <td>...</td>\n",
              "      <td>...</td>\n",
              "    </tr>\n",
              "    <tr>\n",
              "      <th>7214</th>\n",
              "      <td>0.0</td>\n",
              "      <td>0.244933</td>\n",
              "      <td>0.0</td>\n",
              "      <td>0.0</td>\n",
              "      <td>0.0</td>\n",
              "      <td>0.0</td>\n",
              "      <td>0.0</td>\n",
              "      <td>0.499408</td>\n",
              "      <td>0.464880</td>\n",
              "      <td>0.245783</td>\n",
              "      <td>0.0</td>\n",
              "      <td>0.0</td>\n",
              "      <td>0.000000</td>\n",
              "      <td>0.0</td>\n",
              "      <td>0.0</td>\n",
              "      <td>0.0</td>\n",
              "      <td>0.000000</td>\n",
              "      <td>0.418393</td>\n",
              "      <td>0.4889</td>\n",
              "      <td>0.0</td>\n",
              "    </tr>\n",
              "    <tr>\n",
              "      <th>7215</th>\n",
              "      <td>0.0</td>\n",
              "      <td>0.705881</td>\n",
              "      <td>0.0</td>\n",
              "      <td>0.0</td>\n",
              "      <td>0.0</td>\n",
              "      <td>0.0</td>\n",
              "      <td>0.0</td>\n",
              "      <td>0.000000</td>\n",
              "      <td>0.000000</td>\n",
              "      <td>0.708331</td>\n",
              "      <td>0.0</td>\n",
              "      <td>0.0</td>\n",
              "      <td>0.000000</td>\n",
              "      <td>0.0</td>\n",
              "      <td>0.0</td>\n",
              "      <td>0.0</td>\n",
              "      <td>0.000000</td>\n",
              "      <td>0.000000</td>\n",
              "      <td>0.0000</td>\n",
              "      <td>0.0</td>\n",
              "    </tr>\n",
              "    <tr>\n",
              "      <th>7216</th>\n",
              "      <td>0.0</td>\n",
              "      <td>0.705881</td>\n",
              "      <td>0.0</td>\n",
              "      <td>0.0</td>\n",
              "      <td>0.0</td>\n",
              "      <td>0.0</td>\n",
              "      <td>0.0</td>\n",
              "      <td>0.000000</td>\n",
              "      <td>0.000000</td>\n",
              "      <td>0.708331</td>\n",
              "      <td>0.0</td>\n",
              "      <td>0.0</td>\n",
              "      <td>0.000000</td>\n",
              "      <td>0.0</td>\n",
              "      <td>0.0</td>\n",
              "      <td>0.0</td>\n",
              "      <td>0.000000</td>\n",
              "      <td>0.000000</td>\n",
              "      <td>0.0000</td>\n",
              "      <td>0.0</td>\n",
              "    </tr>\n",
              "    <tr>\n",
              "      <th>7217</th>\n",
              "      <td>0.0</td>\n",
              "      <td>0.323152</td>\n",
              "      <td>0.0</td>\n",
              "      <td>0.0</td>\n",
              "      <td>0.0</td>\n",
              "      <td>0.0</td>\n",
              "      <td>0.0</td>\n",
              "      <td>0.000000</td>\n",
              "      <td>0.613338</td>\n",
              "      <td>0.324273</td>\n",
              "      <td>0.0</td>\n",
              "      <td>0.0</td>\n",
              "      <td>0.000000</td>\n",
              "      <td>0.0</td>\n",
              "      <td>0.0</td>\n",
              "      <td>0.0</td>\n",
              "      <td>0.643612</td>\n",
              "      <td>0.000000</td>\n",
              "      <td>0.0000</td>\n",
              "      <td>0.0</td>\n",
              "    </tr>\n",
              "    <tr>\n",
              "      <th>7218</th>\n",
              "      <td>0.0</td>\n",
              "      <td>0.000000</td>\n",
              "      <td>0.0</td>\n",
              "      <td>0.0</td>\n",
              "      <td>0.0</td>\n",
              "      <td>0.0</td>\n",
              "      <td>0.0</td>\n",
              "      <td>0.000000</td>\n",
              "      <td>0.000000</td>\n",
              "      <td>0.000000</td>\n",
              "      <td>0.0</td>\n",
              "      <td>0.0</td>\n",
              "      <td>0.000000</td>\n",
              "      <td>0.0</td>\n",
              "      <td>0.0</td>\n",
              "      <td>0.0</td>\n",
              "      <td>0.000000</td>\n",
              "      <td>0.000000</td>\n",
              "      <td>0.0000</td>\n",
              "      <td>0.0</td>\n",
              "    </tr>\n",
              "  </tbody>\n",
              "</table>\n",
              "<p>7219 rows × 20 columns</p>\n",
              "</div>"
            ],
            "text/plain": [
              "      ahora        co  día   el   en   es  gobierno   gracias       hoy  \\\n",
              "0       0.0  0.000000  1.0  0.0  0.0  0.0       0.0  0.000000  0.000000   \n",
              "1       0.0  0.000000  0.0  0.0  0.0  0.0       0.0  0.710651  0.000000   \n",
              "2       0.0  0.000000  0.0  0.0  0.0  0.0       0.0  1.000000  0.000000   \n",
              "3       0.0  0.000000  0.0  0.0  0.0  0.0       0.0  0.000000  0.000000   \n",
              "4       0.0  0.000000  0.0  0.0  0.0  0.0       0.0  0.000000  0.000000   \n",
              "...     ...       ...  ...  ...  ...  ...       ...       ...       ...   \n",
              "7214    0.0  0.244933  0.0  0.0  0.0  0.0       0.0  0.499408  0.464880   \n",
              "7215    0.0  0.705881  0.0  0.0  0.0  0.0       0.0  0.000000  0.000000   \n",
              "7216    0.0  0.705881  0.0  0.0  0.0  0.0       0.0  0.000000  0.000000   \n",
              "7217    0.0  0.323152  0.0  0.0  0.0  0.0       0.0  0.000000  0.613338   \n",
              "7218    0.0  0.000000  0.0  0.0  0.0  0.0       0.0  0.000000  0.000000   \n",
              "\n",
              "          http   la  mañana        no   pp  psoe  que     rajoy        rt  \\\n",
              "0     0.000000  0.0     0.0  0.000000  0.0   0.0  0.0  0.000000  0.000000   \n",
              "1     0.000000  0.0     0.0  0.703545  0.0   0.0  0.0  0.000000  0.000000   \n",
              "2     0.000000  0.0     0.0  0.000000  0.0   0.0  0.0  0.000000  0.000000   \n",
              "3     0.000000  0.0     0.0  0.000000  0.0   0.0  0.0  0.000000  0.000000   \n",
              "4     0.000000  0.0     0.0  0.000000  0.0   0.0  0.0  0.000000  0.000000   \n",
              "...        ...  ...     ...       ...  ...   ...  ...       ...       ...   \n",
              "7214  0.245783  0.0     0.0  0.000000  0.0   0.0  0.0  0.000000  0.418393   \n",
              "7215  0.708331  0.0     0.0  0.000000  0.0   0.0  0.0  0.000000  0.000000   \n",
              "7216  0.708331  0.0     0.0  0.000000  0.0   0.0  0.0  0.000000  0.000000   \n",
              "7217  0.324273  0.0     0.0  0.000000  0.0   0.0  0.0  0.643612  0.000000   \n",
              "7218  0.000000  0.0     0.0  0.000000  0.0   0.0  0.0  0.000000  0.000000   \n",
              "\n",
              "          si   un  \n",
              "0     0.0000  0.0  \n",
              "1     0.0000  0.0  \n",
              "2     0.0000  0.0  \n",
              "3     0.0000  0.0  \n",
              "4     0.0000  0.0  \n",
              "...      ...  ...  \n",
              "7214  0.4889  0.0  \n",
              "7215  0.0000  0.0  \n",
              "7216  0.0000  0.0  \n",
              "7217  0.0000  0.0  \n",
              "7218  0.0000  0.0  \n",
              "\n",
              "[7219 rows x 20 columns]"
            ]
          },
          "execution_count": 27,
          "metadata": {},
          "output_type": "execute_result"
        }
      ],
      "source": [
        "#Visualización de la matriz Tf-idf\n",
        "\n",
        "#Obtengo el vocabulario para poner las etiquetas de las columnas.\n",
        "vocab_tfidf_stopwords = tfifd_vec_mf.get_feature_names()\n",
        "\n",
        "#Y construyo un dataframe para mostrar el resultado: por cada documento las ocurrencias de cada token.\n",
        "pd.DataFrame(TFIDF_stopwords.toarray(), columns = vocab_tfidf_stopwords)"
      ]
    },
    {
      "cell_type": "markdown",
      "metadata": {
        "id": "qZVOVVBxjsSY"
      },
      "source": [
        "### **2.4. División en train y test**"
      ]
    },
    {
      "cell_type": "code",
      "execution_count": null,
      "metadata": {
        "id": "LX-oKny7Ww8E"
      },
      "outputs": [],
      "source": [
        "docs_train_stopwords, docs_test_stopwords, categs_train_stopwords, categs_test_stopwords = train_test_split(TFIDF_stopwords, categs_stopwords, test_size = 0.25, \n",
        "                                                                    random_state = 50)"
      ]
    },
    {
      "cell_type": "markdown",
      "metadata": {
        "id": "WEAX4QmSj0Kz"
      },
      "source": [
        "### **2.5. Aplicación de algoritmos de clasificación**"
      ]
    },
    {
      "cell_type": "markdown",
      "metadata": {
        "id": "sP--vNtCj709"
      },
      "source": [
        "**2.5.1. Clasificador ingenuo bayesiano**"
      ]
    },
    {
      "cell_type": "code",
      "execution_count": null,
      "metadata": {
        "id": "Wx-7qOH5Ww8E",
        "outputId": "f93326bb-81de-487f-a532-3694e441383f"
      },
      "outputs": [
        {
          "data": {
            "text/html": [
              "<style>#sk-container-id-3 {color: black;background-color: white;}#sk-container-id-3 pre{padding: 0;}#sk-container-id-3 div.sk-toggleable {background-color: white;}#sk-container-id-3 label.sk-toggleable__label {cursor: pointer;display: block;width: 100%;margin-bottom: 0;padding: 0.3em;box-sizing: border-box;text-align: center;}#sk-container-id-3 label.sk-toggleable__label-arrow:before {content: \"▸\";float: left;margin-right: 0.25em;color: #696969;}#sk-container-id-3 label.sk-toggleable__label-arrow:hover:before {color: black;}#sk-container-id-3 div.sk-estimator:hover label.sk-toggleable__label-arrow:before {color: black;}#sk-container-id-3 div.sk-toggleable__content {max-height: 0;max-width: 0;overflow: hidden;text-align: left;background-color: #f0f8ff;}#sk-container-id-3 div.sk-toggleable__content pre {margin: 0.2em;color: black;border-radius: 0.25em;background-color: #f0f8ff;}#sk-container-id-3 input.sk-toggleable__control:checked~div.sk-toggleable__content {max-height: 200px;max-width: 100%;overflow: auto;}#sk-container-id-3 input.sk-toggleable__control:checked~label.sk-toggleable__label-arrow:before {content: \"▾\";}#sk-container-id-3 div.sk-estimator input.sk-toggleable__control:checked~label.sk-toggleable__label {background-color: #d4ebff;}#sk-container-id-3 div.sk-label input.sk-toggleable__control:checked~label.sk-toggleable__label {background-color: #d4ebff;}#sk-container-id-3 input.sk-hidden--visually {border: 0;clip: rect(1px 1px 1px 1px);clip: rect(1px, 1px, 1px, 1px);height: 1px;margin: -1px;overflow: hidden;padding: 0;position: absolute;width: 1px;}#sk-container-id-3 div.sk-estimator {font-family: monospace;background-color: #f0f8ff;border: 1px dotted black;border-radius: 0.25em;box-sizing: border-box;margin-bottom: 0.5em;}#sk-container-id-3 div.sk-estimator:hover {background-color: #d4ebff;}#sk-container-id-3 div.sk-parallel-item::after {content: \"\";width: 100%;border-bottom: 1px solid gray;flex-grow: 1;}#sk-container-id-3 div.sk-label:hover label.sk-toggleable__label {background-color: #d4ebff;}#sk-container-id-3 div.sk-serial::before {content: \"\";position: absolute;border-left: 1px solid gray;box-sizing: border-box;top: 0;bottom: 0;left: 50%;z-index: 0;}#sk-container-id-3 div.sk-serial {display: flex;flex-direction: column;align-items: center;background-color: white;padding-right: 0.2em;padding-left: 0.2em;position: relative;}#sk-container-id-3 div.sk-item {position: relative;z-index: 1;}#sk-container-id-3 div.sk-parallel {display: flex;align-items: stretch;justify-content: center;background-color: white;position: relative;}#sk-container-id-3 div.sk-item::before, #sk-container-id-3 div.sk-parallel-item::before {content: \"\";position: absolute;border-left: 1px solid gray;box-sizing: border-box;top: 0;bottom: 0;left: 50%;z-index: -1;}#sk-container-id-3 div.sk-parallel-item {display: flex;flex-direction: column;z-index: 1;position: relative;background-color: white;}#sk-container-id-3 div.sk-parallel-item:first-child::after {align-self: flex-end;width: 50%;}#sk-container-id-3 div.sk-parallel-item:last-child::after {align-self: flex-start;width: 50%;}#sk-container-id-3 div.sk-parallel-item:only-child::after {width: 0;}#sk-container-id-3 div.sk-dashed-wrapped {border: 1px dashed gray;margin: 0 0.4em 0.5em 0.4em;box-sizing: border-box;padding-bottom: 0.4em;background-color: white;}#sk-container-id-3 div.sk-label label {font-family: monospace;font-weight: bold;display: inline-block;line-height: 1.2em;}#sk-container-id-3 div.sk-label-container {text-align: center;}#sk-container-id-3 div.sk-container {/* jupyter's `normalize.less` sets `[hidden] { display: none; }` but bootstrap.min.css set `[hidden] { display: none !important; }` so we also need the `!important` here to be able to override the default hidden behavior on the sphinx rendered scikit-learn.org. See: https://github.com/scikit-learn/scikit-learn/issues/21755 */display: inline-block !important;position: relative;}#sk-container-id-3 div.sk-text-repr-fallback {display: none;}</style><div id=\"sk-container-id-3\" class=\"sk-top-container\"><div class=\"sk-text-repr-fallback\"><pre>MultinomialNB()</pre><b>In a Jupyter environment, please rerun this cell to show the HTML representation or trust the notebook. <br />On GitHub, the HTML representation is unable to render, please try loading this page with nbviewer.org.</b></div><div class=\"sk-container\" hidden><div class=\"sk-item\"><div class=\"sk-estimator sk-toggleable\"><input class=\"sk-toggleable__control sk-hidden--visually\" id=\"sk-estimator-id-3\" type=\"checkbox\" checked><label for=\"sk-estimator-id-3\" class=\"sk-toggleable__label sk-toggleable__label-arrow\">MultinomialNB</label><div class=\"sk-toggleable__content\"><pre>MultinomialNB()</pre></div></div></div></div></div>"
            ],
            "text/plain": [
              "MultinomialNB()"
            ]
          },
          "execution_count": 29,
          "metadata": {},
          "output_type": "execute_result"
        }
      ],
      "source": [
        "#Entrenamiento del clasificador NB\n",
        "clf = MultinomialNB()\n",
        "clf.fit(docs_train_stopwords, categs_train_stopwords) "
      ]
    },
    {
      "cell_type": "code",
      "execution_count": null,
      "metadata": {
        "id": "S3ZZCbDUWw8F"
      },
      "outputs": [],
      "source": [
        "#Predicción del set de test\n",
        "categs_pred_stopwords = clf.predict(docs_test_stopwords)"
      ]
    },
    {
      "cell_type": "code",
      "execution_count": null,
      "metadata": {
        "id": "V1QIqfbnWw8F",
        "outputId": "08be5ecd-e565-4266-d1ca-47fe8d4c3acd"
      },
      "outputs": [
        {
          "data": {
            "text/plain": [
              "array([[  4,  88,   0, 257],\n",
              "       [  6, 228,   0, 310],\n",
              "       [  0,  71,   0,  97],\n",
              "       [  3, 175,   0, 566]])"
            ]
          },
          "execution_count": 31,
          "metadata": {},
          "output_type": "execute_result"
        }
      ],
      "source": [
        "#Confusion Matrix\n",
        "cm_stopwords = confusion_matrix(categs_test_stopwords, categs_pred_stopwords)\n",
        "cm_stopwords "
      ]
    },
    {
      "cell_type": "code",
      "execution_count": null,
      "metadata": {
        "id": "yLxqCQ0UWw8F",
        "outputId": "22677315-5e90-4c61-d61c-d54cfe5bc473"
      },
      "outputs": [
        {
          "name": "stdout",
          "output_type": "stream",
          "text": [
            "Accuracy train:  0.444588104913188\n",
            "Accuracy test:  0.4421052631578947\n",
            "Fiabilidad:  0.9944154111910437\n"
          ]
        }
      ],
      "source": [
        "#Metrics\n",
        "acc_train_stopwords = clf.score(docs_train_stopwords, categs_train_stopwords)\n",
        "acc_test_stopwords = clf.score(docs_test_stopwords, categs_test_stopwords)\n",
        "\n",
        "print(\"Accuracy train: \", acc_train_stopwords)\n",
        "print(\"Accuracy test: \", acc_test_stopwords)\n",
        "print(\"Fiabilidad: \", acc_test_stopwords / acc_train_stopwords) "
      ]
    },
    {
      "cell_type": "markdown",
      "metadata": {
        "id": "_LOoUTaIkG3C"
      },
      "source": [
        "**2.5.2. SVM (Support Vector Machine)**"
      ]
    },
    {
      "cell_type": "code",
      "execution_count": null,
      "metadata": {
        "id": "y7VmqUrlWw8G",
        "outputId": "465fa204-942c-4d23-8bbd-d3ec2096f902"
      },
      "outputs": [
        {
          "data": {
            "text/html": [
              "<style>#sk-container-id-4 {color: black;background-color: white;}#sk-container-id-4 pre{padding: 0;}#sk-container-id-4 div.sk-toggleable {background-color: white;}#sk-container-id-4 label.sk-toggleable__label {cursor: pointer;display: block;width: 100%;margin-bottom: 0;padding: 0.3em;box-sizing: border-box;text-align: center;}#sk-container-id-4 label.sk-toggleable__label-arrow:before {content: \"▸\";float: left;margin-right: 0.25em;color: #696969;}#sk-container-id-4 label.sk-toggleable__label-arrow:hover:before {color: black;}#sk-container-id-4 div.sk-estimator:hover label.sk-toggleable__label-arrow:before {color: black;}#sk-container-id-4 div.sk-toggleable__content {max-height: 0;max-width: 0;overflow: hidden;text-align: left;background-color: #f0f8ff;}#sk-container-id-4 div.sk-toggleable__content pre {margin: 0.2em;color: black;border-radius: 0.25em;background-color: #f0f8ff;}#sk-container-id-4 input.sk-toggleable__control:checked~div.sk-toggleable__content {max-height: 200px;max-width: 100%;overflow: auto;}#sk-container-id-4 input.sk-toggleable__control:checked~label.sk-toggleable__label-arrow:before {content: \"▾\";}#sk-container-id-4 div.sk-estimator input.sk-toggleable__control:checked~label.sk-toggleable__label {background-color: #d4ebff;}#sk-container-id-4 div.sk-label input.sk-toggleable__control:checked~label.sk-toggleable__label {background-color: #d4ebff;}#sk-container-id-4 input.sk-hidden--visually {border: 0;clip: rect(1px 1px 1px 1px);clip: rect(1px, 1px, 1px, 1px);height: 1px;margin: -1px;overflow: hidden;padding: 0;position: absolute;width: 1px;}#sk-container-id-4 div.sk-estimator {font-family: monospace;background-color: #f0f8ff;border: 1px dotted black;border-radius: 0.25em;box-sizing: border-box;margin-bottom: 0.5em;}#sk-container-id-4 div.sk-estimator:hover {background-color: #d4ebff;}#sk-container-id-4 div.sk-parallel-item::after {content: \"\";width: 100%;border-bottom: 1px solid gray;flex-grow: 1;}#sk-container-id-4 div.sk-label:hover label.sk-toggleable__label {background-color: #d4ebff;}#sk-container-id-4 div.sk-serial::before {content: \"\";position: absolute;border-left: 1px solid gray;box-sizing: border-box;top: 0;bottom: 0;left: 50%;z-index: 0;}#sk-container-id-4 div.sk-serial {display: flex;flex-direction: column;align-items: center;background-color: white;padding-right: 0.2em;padding-left: 0.2em;position: relative;}#sk-container-id-4 div.sk-item {position: relative;z-index: 1;}#sk-container-id-4 div.sk-parallel {display: flex;align-items: stretch;justify-content: center;background-color: white;position: relative;}#sk-container-id-4 div.sk-item::before, #sk-container-id-4 div.sk-parallel-item::before {content: \"\";position: absolute;border-left: 1px solid gray;box-sizing: border-box;top: 0;bottom: 0;left: 50%;z-index: -1;}#sk-container-id-4 div.sk-parallel-item {display: flex;flex-direction: column;z-index: 1;position: relative;background-color: white;}#sk-container-id-4 div.sk-parallel-item:first-child::after {align-self: flex-end;width: 50%;}#sk-container-id-4 div.sk-parallel-item:last-child::after {align-self: flex-start;width: 50%;}#sk-container-id-4 div.sk-parallel-item:only-child::after {width: 0;}#sk-container-id-4 div.sk-dashed-wrapped {border: 1px dashed gray;margin: 0 0.4em 0.5em 0.4em;box-sizing: border-box;padding-bottom: 0.4em;background-color: white;}#sk-container-id-4 div.sk-label label {font-family: monospace;font-weight: bold;display: inline-block;line-height: 1.2em;}#sk-container-id-4 div.sk-label-container {text-align: center;}#sk-container-id-4 div.sk-container {/* jupyter's `normalize.less` sets `[hidden] { display: none; }` but bootstrap.min.css set `[hidden] { display: none !important; }` so we also need the `!important` here to be able to override the default hidden behavior on the sphinx rendered scikit-learn.org. See: https://github.com/scikit-learn/scikit-learn/issues/21755 */display: inline-block !important;position: relative;}#sk-container-id-4 div.sk-text-repr-fallback {display: none;}</style><div id=\"sk-container-id-4\" class=\"sk-top-container\"><div class=\"sk-text-repr-fallback\"><pre>LinearSVC()</pre><b>In a Jupyter environment, please rerun this cell to show the HTML representation or trust the notebook. <br />On GitHub, the HTML representation is unable to render, please try loading this page with nbviewer.org.</b></div><div class=\"sk-container\" hidden><div class=\"sk-item\"><div class=\"sk-estimator sk-toggleable\"><input class=\"sk-toggleable__control sk-hidden--visually\" id=\"sk-estimator-id-4\" type=\"checkbox\" checked><label for=\"sk-estimator-id-4\" class=\"sk-toggleable__label sk-toggleable__label-arrow\">LinearSVC</label><div class=\"sk-toggleable__content\"><pre>LinearSVC()</pre></div></div></div></div></div>"
            ],
            "text/plain": [
              "LinearSVC()"
            ]
          },
          "execution_count": 33,
          "metadata": {},
          "output_type": "execute_result"
        }
      ],
      "source": [
        "#SVM\n",
        "classifier = LinearSVC()\n",
        "classifier.fit(docs_train_stopwords, categs_train_stopwords)\n",
        "LinearSVC(C=1.0, class_weight = None, dual = True, fit_intercept = True,\n",
        "          intercept_scaling = 1, loss = 'squared_hinge', max_iter = 1000,\n",
        "          multi_class = 'ovr', penalty = 'l2', random_state = None, tol = 0.0001,\n",
        "          verbose = 0)"
      ]
    },
    {
      "cell_type": "code",
      "execution_count": null,
      "metadata": {
        "id": "KxRyP3VLkRrj",
        "outputId": "a88e2866-8e41-4925-9532-dc5d134a3d0e"
      },
      "outputs": [
        {
          "data": {
            "text/plain": [
              "array([[  5,  88,   0, 256],\n",
              "       [  6, 230,   0, 308],\n",
              "       [  1,  70,   0,  97],\n",
              "       [  4, 179,   0, 561]])"
            ]
          },
          "execution_count": 34,
          "metadata": {},
          "output_type": "execute_result"
        }
      ],
      "source": [
        "#Confusion Matrix\n",
        "categs_pred_stopwords2 = classifier.predict(docs_test_stopwords)\n",
        "cm_stopwords2 = confusion_matrix(categs_test_stopwords, categs_pred_stopwords2)\n",
        "cm_stopwords2"
      ]
    },
    {
      "cell_type": "code",
      "execution_count": null,
      "metadata": {
        "id": "GAGaxa9oWw8G",
        "outputId": "01387328-6f7a-47d4-8782-5ab660ce4a8d"
      },
      "outputs": [
        {
          "name": "stdout",
          "output_type": "stream",
          "text": [
            "Accuracy: 44.0997%\n"
          ]
        }
      ],
      "source": [
        "#Accuracy\n",
        "from sklearn.metrics import accuracy_score\n",
        "accuracy = accuracy_score(categs_test_stopwords, categs_pred_stopwords2)\n",
        "print(f\"Accuracy: {accuracy:.4%}\")"
      ]
    },
    {
      "cell_type": "markdown",
      "metadata": {
        "id": "Cwba0SF5A1q7"
      },
      "source": [
        "## **3. Clasificación sin quitar stopwords y sin max features**\n",
        "Para tener otro modelo con el que comparar la clasificación, he decidido añadir este modelo en el que sigo los mismos pasos que en la primera clasificación, pero esta vez sin especificar un número de max_features.\n",
        "\n",
        "Comienzo desde la matriz Tf-idf ya que hay varias cosas que tengo cargadas y es ahi donde se realiza el cambio en las max_features."
      ]
    },
    {
      "cell_type": "markdown",
      "metadata": {
        "id": "3tPT3taXA_Q1"
      },
      "source": [
        "### **3.1. Tf-idf (Term Frequency - Inverse Document Frequency)**"
      ]
    },
    {
      "cell_type": "code",
      "execution_count": null,
      "metadata": {
        "id": "YsdiVyWNARbh"
      },
      "outputs": [],
      "source": [
        "#Tf-idf\n",
        "tfifd_vec_nmf = TfidfVectorizer(max_features = None)\n",
        "TFIDF_nmf = tfifd_vec_nmf.fit_transform(docs)"
      ]
    },
    {
      "cell_type": "code",
      "execution_count": null,
      "metadata": {
        "id": "tIKZUMYZARbh",
        "outputId": "32e73dff-6470-42f3-8e9c-ca4d55f1d784"
      },
      "outputs": [
        {
          "name": "stderr",
          "output_type": "stream",
          "text": [
            "/Users/alvaropayo/Library/Python/3.10/lib/python/site-packages/sklearn/utils/deprecation.py:87: FutureWarning: Function get_feature_names is deprecated; get_feature_names is deprecated in 1.0 and will be removed in 1.2. Please use get_feature_names_out instead.\n",
            "  warnings.warn(msg, category=FutureWarning)\n"
          ]
        },
        {
          "data": {
            "text/html": [
              "<div>\n",
              "<style scoped>\n",
              "    .dataframe tbody tr th:only-of-type {\n",
              "        vertical-align: middle;\n",
              "    }\n",
              "\n",
              "    .dataframe tbody tr th {\n",
              "        vertical-align: top;\n",
              "    }\n",
              "\n",
              "    .dataframe thead th {\n",
              "        text-align: right;\n",
              "    }\n",
              "</style>\n",
              "<table border=\"1\" class=\"dataframe\">\n",
              "  <thead>\n",
              "    <tr style=\"text-align: right;\">\n",
              "      <th></th>\n",
              "      <th>00</th>\n",
              "      <th>000</th>\n",
              "      <th>000m</th>\n",
              "      <th>000m2</th>\n",
              "      <th>000mill</th>\n",
              "      <th>001</th>\n",
              "      <th>00h</th>\n",
              "      <th>00habemus</th>\n",
              "      <th>00w5eh53</th>\n",
              "      <th>01</th>\n",
              "      <th>...</th>\n",
              "      <th>única</th>\n",
              "      <th>únicas</th>\n",
              "      <th>único</th>\n",
              "      <th>únicos</th>\n",
              "      <th>útil</th>\n",
              "      <th>útiles</th>\n",
              "      <th>お元気ですか</th>\n",
              "      <th>心から応援しています</th>\n",
              "      <th>日本の友人たちに思いを馳せずにはいられません</th>\n",
              "      <th>日本の皆様</th>\n",
              "    </tr>\n",
              "  </thead>\n",
              "  <tbody>\n",
              "    <tr>\n",
              "      <th>0</th>\n",
              "      <td>0.0</td>\n",
              "      <td>0.0</td>\n",
              "      <td>0.0</td>\n",
              "      <td>0.0</td>\n",
              "      <td>0.0</td>\n",
              "      <td>0.0</td>\n",
              "      <td>0.0</td>\n",
              "      <td>0.0</td>\n",
              "      <td>0.0</td>\n",
              "      <td>0.0</td>\n",
              "      <td>...</td>\n",
              "      <td>0.0</td>\n",
              "      <td>0.0</td>\n",
              "      <td>0.0</td>\n",
              "      <td>0.0</td>\n",
              "      <td>0.0</td>\n",
              "      <td>0.0</td>\n",
              "      <td>0.0</td>\n",
              "      <td>0.0</td>\n",
              "      <td>0.0</td>\n",
              "      <td>0.0</td>\n",
              "    </tr>\n",
              "    <tr>\n",
              "      <th>1</th>\n",
              "      <td>0.0</td>\n",
              "      <td>0.0</td>\n",
              "      <td>0.0</td>\n",
              "      <td>0.0</td>\n",
              "      <td>0.0</td>\n",
              "      <td>0.0</td>\n",
              "      <td>0.0</td>\n",
              "      <td>0.0</td>\n",
              "      <td>0.0</td>\n",
              "      <td>0.0</td>\n",
              "      <td>...</td>\n",
              "      <td>0.0</td>\n",
              "      <td>0.0</td>\n",
              "      <td>0.0</td>\n",
              "      <td>0.0</td>\n",
              "      <td>0.0</td>\n",
              "      <td>0.0</td>\n",
              "      <td>0.0</td>\n",
              "      <td>0.0</td>\n",
              "      <td>0.0</td>\n",
              "      <td>0.0</td>\n",
              "    </tr>\n",
              "    <tr>\n",
              "      <th>2</th>\n",
              "      <td>0.0</td>\n",
              "      <td>0.0</td>\n",
              "      <td>0.0</td>\n",
              "      <td>0.0</td>\n",
              "      <td>0.0</td>\n",
              "      <td>0.0</td>\n",
              "      <td>0.0</td>\n",
              "      <td>0.0</td>\n",
              "      <td>0.0</td>\n",
              "      <td>0.0</td>\n",
              "      <td>...</td>\n",
              "      <td>0.0</td>\n",
              "      <td>0.0</td>\n",
              "      <td>0.0</td>\n",
              "      <td>0.0</td>\n",
              "      <td>0.0</td>\n",
              "      <td>0.0</td>\n",
              "      <td>0.0</td>\n",
              "      <td>0.0</td>\n",
              "      <td>0.0</td>\n",
              "      <td>0.0</td>\n",
              "    </tr>\n",
              "    <tr>\n",
              "      <th>3</th>\n",
              "      <td>0.0</td>\n",
              "      <td>0.0</td>\n",
              "      <td>0.0</td>\n",
              "      <td>0.0</td>\n",
              "      <td>0.0</td>\n",
              "      <td>0.0</td>\n",
              "      <td>0.0</td>\n",
              "      <td>0.0</td>\n",
              "      <td>0.0</td>\n",
              "      <td>0.0</td>\n",
              "      <td>...</td>\n",
              "      <td>0.0</td>\n",
              "      <td>0.0</td>\n",
              "      <td>0.0</td>\n",
              "      <td>0.0</td>\n",
              "      <td>0.0</td>\n",
              "      <td>0.0</td>\n",
              "      <td>0.0</td>\n",
              "      <td>0.0</td>\n",
              "      <td>0.0</td>\n",
              "      <td>0.0</td>\n",
              "    </tr>\n",
              "    <tr>\n",
              "      <th>4</th>\n",
              "      <td>0.0</td>\n",
              "      <td>0.0</td>\n",
              "      <td>0.0</td>\n",
              "      <td>0.0</td>\n",
              "      <td>0.0</td>\n",
              "      <td>0.0</td>\n",
              "      <td>0.0</td>\n",
              "      <td>0.0</td>\n",
              "      <td>0.0</td>\n",
              "      <td>0.0</td>\n",
              "      <td>...</td>\n",
              "      <td>0.0</td>\n",
              "      <td>0.0</td>\n",
              "      <td>0.0</td>\n",
              "      <td>0.0</td>\n",
              "      <td>0.0</td>\n",
              "      <td>0.0</td>\n",
              "      <td>0.0</td>\n",
              "      <td>0.0</td>\n",
              "      <td>0.0</td>\n",
              "      <td>0.0</td>\n",
              "    </tr>\n",
              "    <tr>\n",
              "      <th>...</th>\n",
              "      <td>...</td>\n",
              "      <td>...</td>\n",
              "      <td>...</td>\n",
              "      <td>...</td>\n",
              "      <td>...</td>\n",
              "      <td>...</td>\n",
              "      <td>...</td>\n",
              "      <td>...</td>\n",
              "      <td>...</td>\n",
              "      <td>...</td>\n",
              "      <td>...</td>\n",
              "      <td>...</td>\n",
              "      <td>...</td>\n",
              "      <td>...</td>\n",
              "      <td>...</td>\n",
              "      <td>...</td>\n",
              "      <td>...</td>\n",
              "      <td>...</td>\n",
              "      <td>...</td>\n",
              "      <td>...</td>\n",
              "      <td>...</td>\n",
              "    </tr>\n",
              "    <tr>\n",
              "      <th>7214</th>\n",
              "      <td>0.0</td>\n",
              "      <td>0.0</td>\n",
              "      <td>0.0</td>\n",
              "      <td>0.0</td>\n",
              "      <td>0.0</td>\n",
              "      <td>0.0</td>\n",
              "      <td>0.0</td>\n",
              "      <td>0.0</td>\n",
              "      <td>0.0</td>\n",
              "      <td>0.0</td>\n",
              "      <td>...</td>\n",
              "      <td>0.0</td>\n",
              "      <td>0.0</td>\n",
              "      <td>0.0</td>\n",
              "      <td>0.0</td>\n",
              "      <td>0.0</td>\n",
              "      <td>0.0</td>\n",
              "      <td>0.0</td>\n",
              "      <td>0.0</td>\n",
              "      <td>0.0</td>\n",
              "      <td>0.0</td>\n",
              "    </tr>\n",
              "    <tr>\n",
              "      <th>7215</th>\n",
              "      <td>0.0</td>\n",
              "      <td>0.0</td>\n",
              "      <td>0.0</td>\n",
              "      <td>0.0</td>\n",
              "      <td>0.0</td>\n",
              "      <td>0.0</td>\n",
              "      <td>0.0</td>\n",
              "      <td>0.0</td>\n",
              "      <td>0.0</td>\n",
              "      <td>0.0</td>\n",
              "      <td>...</td>\n",
              "      <td>0.0</td>\n",
              "      <td>0.0</td>\n",
              "      <td>0.0</td>\n",
              "      <td>0.0</td>\n",
              "      <td>0.0</td>\n",
              "      <td>0.0</td>\n",
              "      <td>0.0</td>\n",
              "      <td>0.0</td>\n",
              "      <td>0.0</td>\n",
              "      <td>0.0</td>\n",
              "    </tr>\n",
              "    <tr>\n",
              "      <th>7216</th>\n",
              "      <td>0.0</td>\n",
              "      <td>0.0</td>\n",
              "      <td>0.0</td>\n",
              "      <td>0.0</td>\n",
              "      <td>0.0</td>\n",
              "      <td>0.0</td>\n",
              "      <td>0.0</td>\n",
              "      <td>0.0</td>\n",
              "      <td>0.0</td>\n",
              "      <td>0.0</td>\n",
              "      <td>...</td>\n",
              "      <td>0.0</td>\n",
              "      <td>0.0</td>\n",
              "      <td>0.0</td>\n",
              "      <td>0.0</td>\n",
              "      <td>0.0</td>\n",
              "      <td>0.0</td>\n",
              "      <td>0.0</td>\n",
              "      <td>0.0</td>\n",
              "      <td>0.0</td>\n",
              "      <td>0.0</td>\n",
              "    </tr>\n",
              "    <tr>\n",
              "      <th>7217</th>\n",
              "      <td>0.0</td>\n",
              "      <td>0.0</td>\n",
              "      <td>0.0</td>\n",
              "      <td>0.0</td>\n",
              "      <td>0.0</td>\n",
              "      <td>0.0</td>\n",
              "      <td>0.0</td>\n",
              "      <td>0.0</td>\n",
              "      <td>0.0</td>\n",
              "      <td>0.0</td>\n",
              "      <td>...</td>\n",
              "      <td>0.0</td>\n",
              "      <td>0.0</td>\n",
              "      <td>0.0</td>\n",
              "      <td>0.0</td>\n",
              "      <td>0.0</td>\n",
              "      <td>0.0</td>\n",
              "      <td>0.0</td>\n",
              "      <td>0.0</td>\n",
              "      <td>0.0</td>\n",
              "      <td>0.0</td>\n",
              "    </tr>\n",
              "    <tr>\n",
              "      <th>7218</th>\n",
              "      <td>0.0</td>\n",
              "      <td>0.0</td>\n",
              "      <td>0.0</td>\n",
              "      <td>0.0</td>\n",
              "      <td>0.0</td>\n",
              "      <td>0.0</td>\n",
              "      <td>0.0</td>\n",
              "      <td>0.0</td>\n",
              "      <td>0.0</td>\n",
              "      <td>0.0</td>\n",
              "      <td>...</td>\n",
              "      <td>0.0</td>\n",
              "      <td>0.0</td>\n",
              "      <td>0.0</td>\n",
              "      <td>0.0</td>\n",
              "      <td>0.0</td>\n",
              "      <td>0.0</td>\n",
              "      <td>0.0</td>\n",
              "      <td>0.0</td>\n",
              "      <td>0.0</td>\n",
              "      <td>0.0</td>\n",
              "    </tr>\n",
              "  </tbody>\n",
              "</table>\n",
              "<p>7219 rows × 21054 columns</p>\n",
              "</div>"
            ],
            "text/plain": [
              "       00  000  000m  000m2  000mill  001  00h  00habemus  00w5eh53   01  ...  \\\n",
              "0     0.0  0.0   0.0    0.0      0.0  0.0  0.0        0.0       0.0  0.0  ...   \n",
              "1     0.0  0.0   0.0    0.0      0.0  0.0  0.0        0.0       0.0  0.0  ...   \n",
              "2     0.0  0.0   0.0    0.0      0.0  0.0  0.0        0.0       0.0  0.0  ...   \n",
              "3     0.0  0.0   0.0    0.0      0.0  0.0  0.0        0.0       0.0  0.0  ...   \n",
              "4     0.0  0.0   0.0    0.0      0.0  0.0  0.0        0.0       0.0  0.0  ...   \n",
              "...   ...  ...   ...    ...      ...  ...  ...        ...       ...  ...  ...   \n",
              "7214  0.0  0.0   0.0    0.0      0.0  0.0  0.0        0.0       0.0  0.0  ...   \n",
              "7215  0.0  0.0   0.0    0.0      0.0  0.0  0.0        0.0       0.0  0.0  ...   \n",
              "7216  0.0  0.0   0.0    0.0      0.0  0.0  0.0        0.0       0.0  0.0  ...   \n",
              "7217  0.0  0.0   0.0    0.0      0.0  0.0  0.0        0.0       0.0  0.0  ...   \n",
              "7218  0.0  0.0   0.0    0.0      0.0  0.0  0.0        0.0       0.0  0.0  ...   \n",
              "\n",
              "      única  únicas  único  únicos  útil  útiles  お元気ですか  心から応援しています  \\\n",
              "0       0.0     0.0    0.0     0.0   0.0     0.0     0.0         0.0   \n",
              "1       0.0     0.0    0.0     0.0   0.0     0.0     0.0         0.0   \n",
              "2       0.0     0.0    0.0     0.0   0.0     0.0     0.0         0.0   \n",
              "3       0.0     0.0    0.0     0.0   0.0     0.0     0.0         0.0   \n",
              "4       0.0     0.0    0.0     0.0   0.0     0.0     0.0         0.0   \n",
              "...     ...     ...    ...     ...   ...     ...     ...         ...   \n",
              "7214    0.0     0.0    0.0     0.0   0.0     0.0     0.0         0.0   \n",
              "7215    0.0     0.0    0.0     0.0   0.0     0.0     0.0         0.0   \n",
              "7216    0.0     0.0    0.0     0.0   0.0     0.0     0.0         0.0   \n",
              "7217    0.0     0.0    0.0     0.0   0.0     0.0     0.0         0.0   \n",
              "7218    0.0     0.0    0.0     0.0   0.0     0.0     0.0         0.0   \n",
              "\n",
              "      日本の友人たちに思いを馳せずにはいられません  日本の皆様  \n",
              "0                        0.0    0.0  \n",
              "1                        0.0    0.0  \n",
              "2                        0.0    0.0  \n",
              "3                        0.0    0.0  \n",
              "4                        0.0    0.0  \n",
              "...                      ...    ...  \n",
              "7214                     0.0    0.0  \n",
              "7215                     0.0    0.0  \n",
              "7216                     0.0    0.0  \n",
              "7217                     0.0    0.0  \n",
              "7218                     0.0    0.0  \n",
              "\n",
              "[7219 rows x 21054 columns]"
            ]
          },
          "execution_count": 37,
          "metadata": {},
          "output_type": "execute_result"
        }
      ],
      "source": [
        "#Visualización de la matriz Tf-idf\n",
        "\n",
        "#Obtengo el vocabulario para poner las etiquetas de las columnas.\n",
        "vocab_tfidf_nmf = tfifd_vec_nmf.get_feature_names()\n",
        "\n",
        "#Y construyo un dataframe para mostrar el resultado: por cada documento las ocurrencias de cada token.\n",
        "pd.DataFrame(TFIDF_nmf.toarray(), columns = vocab_tfidf_nmf)"
      ]
    },
    {
      "cell_type": "markdown",
      "metadata": {
        "id": "HC4F8Zk2BDzk"
      },
      "source": [
        "### **3.2. División en train y test**"
      ]
    },
    {
      "cell_type": "code",
      "execution_count": null,
      "metadata": {
        "id": "PQLsjEQNARbh"
      },
      "outputs": [],
      "source": [
        "docs_train_nmf, docs_test_nmf, categs_train_nmf, categs_test_nmf = train_test_split(TFIDF_nmf, categs, test_size = 0.25, \n",
        "                                                                    random_state = 50)"
      ]
    },
    {
      "cell_type": "markdown",
      "metadata": {
        "id": "39N6QZxYBNAZ"
      },
      "source": [
        "### **3.3. Aplicación de algoritmos de clasificación**"
      ]
    },
    {
      "cell_type": "markdown",
      "metadata": {
        "id": "3Bv6LzUnBUSm"
      },
      "source": [
        "**3.3.1. Clasificador ingenuo bayesiano**"
      ]
    },
    {
      "cell_type": "code",
      "execution_count": null,
      "metadata": {
        "id": "dJZn__TaARbh",
        "outputId": "9098c471-d1ce-4f37-8d97-7088276d5c7a"
      },
      "outputs": [
        {
          "data": {
            "text/html": [
              "<style>#sk-container-id-5 {color: black;background-color: white;}#sk-container-id-5 pre{padding: 0;}#sk-container-id-5 div.sk-toggleable {background-color: white;}#sk-container-id-5 label.sk-toggleable__label {cursor: pointer;display: block;width: 100%;margin-bottom: 0;padding: 0.3em;box-sizing: border-box;text-align: center;}#sk-container-id-5 label.sk-toggleable__label-arrow:before {content: \"▸\";float: left;margin-right: 0.25em;color: #696969;}#sk-container-id-5 label.sk-toggleable__label-arrow:hover:before {color: black;}#sk-container-id-5 div.sk-estimator:hover label.sk-toggleable__label-arrow:before {color: black;}#sk-container-id-5 div.sk-toggleable__content {max-height: 0;max-width: 0;overflow: hidden;text-align: left;background-color: #f0f8ff;}#sk-container-id-5 div.sk-toggleable__content pre {margin: 0.2em;color: black;border-radius: 0.25em;background-color: #f0f8ff;}#sk-container-id-5 input.sk-toggleable__control:checked~div.sk-toggleable__content {max-height: 200px;max-width: 100%;overflow: auto;}#sk-container-id-5 input.sk-toggleable__control:checked~label.sk-toggleable__label-arrow:before {content: \"▾\";}#sk-container-id-5 div.sk-estimator input.sk-toggleable__control:checked~label.sk-toggleable__label {background-color: #d4ebff;}#sk-container-id-5 div.sk-label input.sk-toggleable__control:checked~label.sk-toggleable__label {background-color: #d4ebff;}#sk-container-id-5 input.sk-hidden--visually {border: 0;clip: rect(1px 1px 1px 1px);clip: rect(1px, 1px, 1px, 1px);height: 1px;margin: -1px;overflow: hidden;padding: 0;position: absolute;width: 1px;}#sk-container-id-5 div.sk-estimator {font-family: monospace;background-color: #f0f8ff;border: 1px dotted black;border-radius: 0.25em;box-sizing: border-box;margin-bottom: 0.5em;}#sk-container-id-5 div.sk-estimator:hover {background-color: #d4ebff;}#sk-container-id-5 div.sk-parallel-item::after {content: \"\";width: 100%;border-bottom: 1px solid gray;flex-grow: 1;}#sk-container-id-5 div.sk-label:hover label.sk-toggleable__label {background-color: #d4ebff;}#sk-container-id-5 div.sk-serial::before {content: \"\";position: absolute;border-left: 1px solid gray;box-sizing: border-box;top: 0;bottom: 0;left: 50%;z-index: 0;}#sk-container-id-5 div.sk-serial {display: flex;flex-direction: column;align-items: center;background-color: white;padding-right: 0.2em;padding-left: 0.2em;position: relative;}#sk-container-id-5 div.sk-item {position: relative;z-index: 1;}#sk-container-id-5 div.sk-parallel {display: flex;align-items: stretch;justify-content: center;background-color: white;position: relative;}#sk-container-id-5 div.sk-item::before, #sk-container-id-5 div.sk-parallel-item::before {content: \"\";position: absolute;border-left: 1px solid gray;box-sizing: border-box;top: 0;bottom: 0;left: 50%;z-index: -1;}#sk-container-id-5 div.sk-parallel-item {display: flex;flex-direction: column;z-index: 1;position: relative;background-color: white;}#sk-container-id-5 div.sk-parallel-item:first-child::after {align-self: flex-end;width: 50%;}#sk-container-id-5 div.sk-parallel-item:last-child::after {align-self: flex-start;width: 50%;}#sk-container-id-5 div.sk-parallel-item:only-child::after {width: 0;}#sk-container-id-5 div.sk-dashed-wrapped {border: 1px dashed gray;margin: 0 0.4em 0.5em 0.4em;box-sizing: border-box;padding-bottom: 0.4em;background-color: white;}#sk-container-id-5 div.sk-label label {font-family: monospace;font-weight: bold;display: inline-block;line-height: 1.2em;}#sk-container-id-5 div.sk-label-container {text-align: center;}#sk-container-id-5 div.sk-container {/* jupyter's `normalize.less` sets `[hidden] { display: none; }` but bootstrap.min.css set `[hidden] { display: none !important; }` so we also need the `!important` here to be able to override the default hidden behavior on the sphinx rendered scikit-learn.org. See: https://github.com/scikit-learn/scikit-learn/issues/21755 */display: inline-block !important;position: relative;}#sk-container-id-5 div.sk-text-repr-fallback {display: none;}</style><div id=\"sk-container-id-5\" class=\"sk-top-container\"><div class=\"sk-text-repr-fallback\"><pre>MultinomialNB()</pre><b>In a Jupyter environment, please rerun this cell to show the HTML representation or trust the notebook. <br />On GitHub, the HTML representation is unable to render, please try loading this page with nbviewer.org.</b></div><div class=\"sk-container\" hidden><div class=\"sk-item\"><div class=\"sk-estimator sk-toggleable\"><input class=\"sk-toggleable__control sk-hidden--visually\" id=\"sk-estimator-id-5\" type=\"checkbox\" checked><label for=\"sk-estimator-id-5\" class=\"sk-toggleable__label sk-toggleable__label-arrow\">MultinomialNB</label><div class=\"sk-toggleable__content\"><pre>MultinomialNB()</pre></div></div></div></div></div>"
            ],
            "text/plain": [
              "MultinomialNB()"
            ]
          },
          "execution_count": 39,
          "metadata": {},
          "output_type": "execute_result"
        }
      ],
      "source": [
        "#Entrenamiento del clasificador NB\n",
        "clf = MultinomialNB()\n",
        "clf.fit(docs_train_nmf, categs_train_nmf) "
      ]
    },
    {
      "cell_type": "code",
      "execution_count": null,
      "metadata": {
        "id": "GVVe9QVKARbi"
      },
      "outputs": [],
      "source": [
        "#Predicción del set de test\n",
        "categs_pred_nmf = clf.predict(docs_test_nmf)"
      ]
    },
    {
      "cell_type": "code",
      "execution_count": null,
      "metadata": {
        "id": "cognO_QyARbi",
        "outputId": "e4d2dc7b-ac19-4504-f4b9-6587a27e92d7"
      },
      "outputs": [
        {
          "data": {
            "text/plain": [
              "array([[ 29,  48,   0, 272],\n",
              "       [  0, 349,   0, 195],\n",
              "       [  2,  67,   0,  99],\n",
              "       [  3,  93,   0, 648]])"
            ]
          },
          "execution_count": 41,
          "metadata": {},
          "output_type": "execute_result"
        }
      ],
      "source": [
        "#Confusion Matrix\n",
        "cm_nmf = confusion_matrix(categs_test_nmf, categs_pred_nmf)\n",
        "cm_nmf"
      ]
    },
    {
      "cell_type": "code",
      "execution_count": null,
      "metadata": {
        "id": "1pvpvh-3ARbi",
        "outputId": "7186e9c6-573d-4c78-e9a8-2a654121eac1"
      },
      "outputs": [
        {
          "name": "stdout",
          "output_type": "stream",
          "text": [
            "Accuracy train:  0.7367934983376432\n",
            "Accuracy test:  0.5684210526315789\n",
            "Fiabilidad:  0.7714794632608093\n"
          ]
        }
      ],
      "source": [
        "#Metrics\n",
        "acc_train_nmf = clf.score(docs_train_nmf, categs_train_nmf)\n",
        "acc_test_nmf = clf.score(docs_test_nmf, categs_test_nmf)\n",
        "\n",
        "print(\"Accuracy train: \", acc_train_nmf)\n",
        "print(\"Accuracy test: \", acc_test_nmf)\n",
        "print(\"Fiabilidad: \", acc_test_nmf / acc_train_nmf) "
      ]
    },
    {
      "cell_type": "markdown",
      "metadata": {
        "id": "v9cOXBzqBeZo"
      },
      "source": [
        "**3.3.2. SVM (Support Vector Machine)**"
      ]
    },
    {
      "cell_type": "code",
      "execution_count": null,
      "metadata": {
        "id": "m7A-twKvARbi",
        "outputId": "6598503f-37d4-45c7-f7ac-bc66a436fa6f"
      },
      "outputs": [
        {
          "data": {
            "text/html": [
              "<style>#sk-container-id-6 {color: black;background-color: white;}#sk-container-id-6 pre{padding: 0;}#sk-container-id-6 div.sk-toggleable {background-color: white;}#sk-container-id-6 label.sk-toggleable__label {cursor: pointer;display: block;width: 100%;margin-bottom: 0;padding: 0.3em;box-sizing: border-box;text-align: center;}#sk-container-id-6 label.sk-toggleable__label-arrow:before {content: \"▸\";float: left;margin-right: 0.25em;color: #696969;}#sk-container-id-6 label.sk-toggleable__label-arrow:hover:before {color: black;}#sk-container-id-6 div.sk-estimator:hover label.sk-toggleable__label-arrow:before {color: black;}#sk-container-id-6 div.sk-toggleable__content {max-height: 0;max-width: 0;overflow: hidden;text-align: left;background-color: #f0f8ff;}#sk-container-id-6 div.sk-toggleable__content pre {margin: 0.2em;color: black;border-radius: 0.25em;background-color: #f0f8ff;}#sk-container-id-6 input.sk-toggleable__control:checked~div.sk-toggleable__content {max-height: 200px;max-width: 100%;overflow: auto;}#sk-container-id-6 input.sk-toggleable__control:checked~label.sk-toggleable__label-arrow:before {content: \"▾\";}#sk-container-id-6 div.sk-estimator input.sk-toggleable__control:checked~label.sk-toggleable__label {background-color: #d4ebff;}#sk-container-id-6 div.sk-label input.sk-toggleable__control:checked~label.sk-toggleable__label {background-color: #d4ebff;}#sk-container-id-6 input.sk-hidden--visually {border: 0;clip: rect(1px 1px 1px 1px);clip: rect(1px, 1px, 1px, 1px);height: 1px;margin: -1px;overflow: hidden;padding: 0;position: absolute;width: 1px;}#sk-container-id-6 div.sk-estimator {font-family: monospace;background-color: #f0f8ff;border: 1px dotted black;border-radius: 0.25em;box-sizing: border-box;margin-bottom: 0.5em;}#sk-container-id-6 div.sk-estimator:hover {background-color: #d4ebff;}#sk-container-id-6 div.sk-parallel-item::after {content: \"\";width: 100%;border-bottom: 1px solid gray;flex-grow: 1;}#sk-container-id-6 div.sk-label:hover label.sk-toggleable__label {background-color: #d4ebff;}#sk-container-id-6 div.sk-serial::before {content: \"\";position: absolute;border-left: 1px solid gray;box-sizing: border-box;top: 0;bottom: 0;left: 50%;z-index: 0;}#sk-container-id-6 div.sk-serial {display: flex;flex-direction: column;align-items: center;background-color: white;padding-right: 0.2em;padding-left: 0.2em;position: relative;}#sk-container-id-6 div.sk-item {position: relative;z-index: 1;}#sk-container-id-6 div.sk-parallel {display: flex;align-items: stretch;justify-content: center;background-color: white;position: relative;}#sk-container-id-6 div.sk-item::before, #sk-container-id-6 div.sk-parallel-item::before {content: \"\";position: absolute;border-left: 1px solid gray;box-sizing: border-box;top: 0;bottom: 0;left: 50%;z-index: -1;}#sk-container-id-6 div.sk-parallel-item {display: flex;flex-direction: column;z-index: 1;position: relative;background-color: white;}#sk-container-id-6 div.sk-parallel-item:first-child::after {align-self: flex-end;width: 50%;}#sk-container-id-6 div.sk-parallel-item:last-child::after {align-self: flex-start;width: 50%;}#sk-container-id-6 div.sk-parallel-item:only-child::after {width: 0;}#sk-container-id-6 div.sk-dashed-wrapped {border: 1px dashed gray;margin: 0 0.4em 0.5em 0.4em;box-sizing: border-box;padding-bottom: 0.4em;background-color: white;}#sk-container-id-6 div.sk-label label {font-family: monospace;font-weight: bold;display: inline-block;line-height: 1.2em;}#sk-container-id-6 div.sk-label-container {text-align: center;}#sk-container-id-6 div.sk-container {/* jupyter's `normalize.less` sets `[hidden] { display: none; }` but bootstrap.min.css set `[hidden] { display: none !important; }` so we also need the `!important` here to be able to override the default hidden behavior on the sphinx rendered scikit-learn.org. See: https://github.com/scikit-learn/scikit-learn/issues/21755 */display: inline-block !important;position: relative;}#sk-container-id-6 div.sk-text-repr-fallback {display: none;}</style><div id=\"sk-container-id-6\" class=\"sk-top-container\"><div class=\"sk-text-repr-fallback\"><pre>LinearSVC()</pre><b>In a Jupyter environment, please rerun this cell to show the HTML representation or trust the notebook. <br />On GitHub, the HTML representation is unable to render, please try loading this page with nbviewer.org.</b></div><div class=\"sk-container\" hidden><div class=\"sk-item\"><div class=\"sk-estimator sk-toggleable\"><input class=\"sk-toggleable__control sk-hidden--visually\" id=\"sk-estimator-id-6\" type=\"checkbox\" checked><label for=\"sk-estimator-id-6\" class=\"sk-toggleable__label sk-toggleable__label-arrow\">LinearSVC</label><div class=\"sk-toggleable__content\"><pre>LinearSVC()</pre></div></div></div></div></div>"
            ],
            "text/plain": [
              "LinearSVC()"
            ]
          },
          "execution_count": 43,
          "metadata": {},
          "output_type": "execute_result"
        }
      ],
      "source": [
        "classifier = LinearSVC()\n",
        "classifier.fit(docs_train_nmf, categs_train_nmf)\n",
        "LinearSVC(C=1.0, class_weight = None, dual = True, fit_intercept = True,\n",
        "          intercept_scaling = 1, loss = 'squared_hinge', max_iter = 1000,\n",
        "          multi_class = 'ovr', penalty = 'l2', random_state = None, tol = 0.0001,\n",
        "          verbose = 0)"
      ]
    },
    {
      "cell_type": "code",
      "execution_count": null,
      "metadata": {
        "id": "RJ4rEQu4ARbi",
        "outputId": "2925ba24-f58f-4a01-9cc7-317b4202c58e"
      },
      "outputs": [
        {
          "data": {
            "text/plain": [
              "array([[168,  62,   8, 111],\n",
              "       [ 53, 364,  19, 108],\n",
              "       [ 18,  76,   8,  66],\n",
              "       [ 67, 142,   9, 526]])"
            ]
          },
          "execution_count": 44,
          "metadata": {},
          "output_type": "execute_result"
        }
      ],
      "source": [
        "#Confusion Matrix\n",
        "categs_pred_nmf2 = classifier.predict(docs_test_nmf)\n",
        "cm_nmf2 = confusion_matrix(categs_test_nmf, categs_pred_nmf2)\n",
        "cm_nmf2"
      ]
    },
    {
      "cell_type": "code",
      "execution_count": null,
      "metadata": {
        "id": "M6HN7ClzARbi",
        "outputId": "044854bb-9531-4fa7-e5b9-6bda5e861547"
      },
      "outputs": [
        {
          "name": "stdout",
          "output_type": "stream",
          "text": [
            "Accuracy: 59.0582%\n"
          ]
        }
      ],
      "source": [
        "#Accuracy\n",
        "accuracy_nmf = accuracy_score(categs_test_nmf, categs_pred_nmf2)\n",
        "print(f\"Accuracy: {accuracy_nmf:.4%}\")"
      ]
    },
    {
      "cell_type": "markdown",
      "metadata": {
        "id": "IDzwfzjsDBMd"
      },
      "source": [
        "## **4. Comentario de los resultados obtenidos**\n",
        "Tras realizar la clasificación con max_features = 20, quitando stopwords, y sin especificar max features, voy a comparar las diferentes métricas obtenidas al evaluar los modelos, una vez aplicados los algoritmos de clasificación.\n",
        "\n",
        "Por un lado, se puede apreciar que el hecho de quitar las stopwords no es muy relevante, ya que las métricas mejoran muy ligeramente respecto al modelo en el que no se quitan las stopwords. Esta comparación la hago basándome en los apartados 1 y 2 de este notebook.\n",
        "\n",
        "Por otro lado, si que es relevante el hecho de especificar o no el número de max features, ya que se puede ver que cuando no lo especificamos, el accuracy es mejor (aumenta) pero la fiabilidad es peor (disminuye). Esta comparación la hago basándome en los apartados 1 y 3 de este notebook."
      ]
    }
  ],
  "metadata": {
    "colab": {
      "collapsed_sections": [],
      "provenance": []
    },
    "kernelspec": {
      "display_name": "Python 3.10.7 64-bit",
      "language": "python",
      "name": "python3"
    },
    "language_info": {
      "codemirror_mode": {
        "name": "ipython",
        "version": 3
      },
      "file_extension": ".py",
      "mimetype": "text/x-python",
      "name": "python",
      "nbconvert_exporter": "python",
      "pygments_lexer": "ipython3",
      "version": "3.10.7"
    },
    "orig_nbformat": 4,
    "vscode": {
      "interpreter": {
        "hash": "aee8b7b246df8f9039afb4144a1f6fd8d2ca17a180786b69acc140d282b71a49"
      }
    }
  },
  "nbformat": 4,
  "nbformat_minor": 0
}